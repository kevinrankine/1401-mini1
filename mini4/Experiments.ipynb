{
 "cells": [
  {
   "cell_type": "code",
   "execution_count": 16,
   "metadata": {
    "collapsed": false
   },
   "outputs": [],
   "source": [
    "import numpy as np\n",
    "import hippo\n",
    "import cortex\n",
    "import network"
   ]
  },
  {
   "cell_type": "code",
   "execution_count": 17,
   "metadata": {
    "collapsed": false
   },
   "outputs": [],
   "source": [
    "def construct_io():\n",
    "    inputs = np.random.rand(20)\n",
    "    inputs[-1] = 1\n",
    "    inputs[:4] = (0, 0, 0, 0)\n",
    "    outputs = np.copy(inputs)\n",
    "    \n",
    "    return inputs, outputs\n",
    "\n",
    "def randomize_io(i, o): \n",
    "    if np.random.rand() < 0.01:\n",
    "        index = 4 + int(np.random.rand() * (len(i) - 4))\n",
    "        value = np.random.rand()\n",
    "        i[index] = value\n",
    "        o[index] = value\n",
    "        \n",
    "def experiment(cs, inputs, outputs, US=1, trials=100, responses=None):\n",
    "    if responses is None:\n",
    "        responses = {c : [] for c in cs}\n",
    "    \n",
    "    for epoch in xrange(100):\n",
    "        outputs[0] = US\n",
    "        inputs[cs] = 1\n",
    "        outputs[cs] = 1\n",
    "        \n",
    "        for trial in range(len(cs)):\n",
    "            net.forward(inputs)\n",
    "            net.backward(outputs)\n",
    "            randomize_io(inputs, outputs)\n",
    "            \n",
    "        for c in cs:\n",
    "            pass\n",
    "            \n",
    "        outputs[0] = 0\n",
    "        inputs[cs] = 0\n",
    "        outputs[cs] = 0\n",
    "        \n",
    "        for trial in range(len(cs)):\n",
    "            net.forward(inputs)\n",
    "            net.backward(outputs)\n",
    "            randomize_io(inputs, outputs)\n",
    "        \n",
    "            "
   ]
  },
  {
   "cell_type": "code",
   "execution_count": 95,
   "metadata": {
    "collapsed": false
   },
   "outputs": [],
   "source": [
    "hip = hippo.Hippo(20, 10)\n",
    "cort = cortex.Cortex(20, 60, 1, 10)\n",
    "net = network.Network(hip, cort)\n",
    "inputs, outputs = construct_io()\n",
    "response_A = []\n",
    "response_B = []"
   ]
  },
  {
   "cell_type": "code",
   "execution_count": 96,
   "metadata": {
    "collapsed": false
   },
   "outputs": [],
   "source": [
    "for epoch in xrange(100):\n",
    "    outputs[0] = 0\n",
    "    inputs[1:3] = (1, 1)\n",
    "    outputs[1:3] = (1, 1)\n",
    "\n",
    "    for trial in xrange(1,3):\n",
    "        net.forward(inputs)\n",
    "        net.backward(outputs)\n",
    "        randomize_io(inputs, outputs)\n",
    "    \n",
    "    response_A.append(net.cort.outputs)\n",
    "    response_B.append(net.cort.outputs)\n",
    "    inputs[1:3] = (0, 0)\n",
    "    outputs[1:3] = (0, 0)\n",
    "\n",
    "    for trial in xrange(3, 10):\n",
    "        net.forward(inputs)\n",
    "        net.backward(outputs)\n",
    "        randomize_io(inputs, outputs)\n",
    "\n",
    "inputs[1:3] = (0, 0)\n",
    "outputs[1:3] = (0, 0)\n",
    "for epoch in xrange(100):\n",
    "    inputs[1] = 1\n",
    "    outputs[0:2] = 1\n",
    "\n",
    "    for trial in xrange(1,2):\n",
    "        net.forward(inputs)\n",
    "        net.backward(outputs, learn=False)\n",
    "        randomize_io(inputs, outputs)\n",
    "    \n",
    "    response_A.append(net.cort.outputs)\n",
    "    inputs[1:3] = (0,1)\n",
    "    net.forward(inputs)\n",
    "    response_B.append(net.cort.outputs)\n",
    "    inputs[1:3] = (0, 0)\n",
    "\n",
    "    inputs[1] = 0\n",
    "    outputs[0:2] = 0\n",
    "\n",
    "    for trial in xrange(2, 10):\n",
    "        net.forward(inputs)\n",
    "        net.backward(outputs, learn=False)\n",
    "        randomize_io(inputs, outputs)"
   ]
  },
  {
   "cell_type": "code",
   "execution_count": 98,
   "metadata": {
    "collapsed": false
   },
   "outputs": [
    {
     "data": {
      "text/plain": [
       "array([ 0.90576438])"
      ]
     },
     "execution_count": 98,
     "metadata": {},
     "output_type": "execute_result"
    },
    {
     "data": {
      "image/png": "[encoded data removed]",
      "text/plain": [
       "<matplotlib.figure.Figure at 0x10574ee90>"
      ]
     },
     "metadata": {},
     "output_type": "display_data"
    }
   ],
   "source": [
    "%matplotlib inline\n",
    "import matplotlib.pyplot as plt\n",
    "from matplotlib.pylab import rcParams\n",
    "rcParams['figure.figsize'] = (8, 6)\n",
    "plt.style.use('ggplot')\n",
    "\n",
    "plt.plot(np.linspace(0, 200, 200), response_A, label='Response to $A$', linewidth=2.0)\n",
    "plt.plot(np.linspace(0, 200, 200), response_B, label='Response to $B$', linewidth=2.0)\n",
    "plt.legend(loc='upper left')\n",
    "plt.title('100 trials of $AB- $ followed by 100 trials of $A+$')\n",
    "plt.ylim(-0.1, 1.1)\n",
    "plt.axes().grid('off')\n",
    "A_hp = response_A[100:][-1]\n",
    "A_hp"
   ]
  },
  {
   "cell_type": "code",
   "execution_count": 93,
   "metadata": {
    "collapsed": false
   },
   "outputs": [],
   "source": [
    "hip = hippo.Hippo(20, 10)\n",
    "cort = cortex.Cortex(20, 60, 1, 10)\n",
    "net = network.Network(hip, cort)\n",
    "\n",
    "inputs, outputs = construct_io()\n",
    "inputs[1] = 1\n",
    "net.forward(inputs)\n",
    "A_hnp = cort.outputs\n",
    "inputs[1] = 0\n",
    "response_A = []\n",
    "response_B = []"
   ]
  },
  {
   "cell_type": "code",
   "execution_count": 94,
   "metadata": {
    "collapsed": false
   },
   "outputs": [],
   "source": [
    "for epoch in xrange(200):\n",
    "    outputs[0] = 0\n",
    "    inputs[1:3] = (1, 1)\n",
    "    outputs[1:3] = (1, 1)\n",
    "\n",
    "    for trial in xrange(1,3):\n",
    "        net.forward(inputs)\n",
    "        net.backward(outputs)\n",
    "        randomize_io(inputs, outputs)\n",
    "    \n",
    "    response_A.append(net.cort.outputs)\n",
    "    response_B.append(net.cort.outputs)\n",
    "    inputs[1:3] = (0, 0)\n",
    "    outputs[1:3] = (0, 0)\n",
    "\n",
    "    for trial in xrange(3, 10):\n",
    "        net.forward(inputs)\n",
    "        net.backward(outputs)\n",
    "        randomize_io(inputs, outputs)\n",
    "\n",
    "inputs[1:3] = (0, 0)\n",
    "outputs[1:3] = (0, 0)\n",
    "for epoch in xrange(100):\n",
    "    inputs[1:3] = (1, 0)\n",
    "    outputs[0:3] = (1, 1, 0)\n",
    "    \n",
    "    net.forward(inputs)\n",
    "    net.backward(outputs, learn=True)\n",
    "    randomize_io(inputs, outputs)\n",
    "    \n",
    "    inputs[1:3] = (0, 1)\n",
    "    outputs[0:3] = (0, 0, 1)\n",
    "    \n",
    "    net.forward(inputs)\n",
    "    net.backward(outputs, learn=True)\n",
    "\n",
    "    inputs[1:3] = (1, 0)\n",
    "    net.forward(inputs)\n",
    "    response_A.append(net.cort.outputs)\n",
    "    inputs[1:3] = (0,1)\n",
    "    net.forward(inputs)\n",
    "    response_B.append(net.cort.outputs)\n",
    "    inputs[1:3] = (0, 0)\n",
    "\n",
    "    inputs[1] = 0\n",
    "    outputs[0:2] = 0\n",
    "\n",
    "    for trial in xrange(2, 10):\n",
    "        net.forward(inputs)\n",
    "        net.backward(outputs, learn=True)\n",
    "        randomize_io(inputs, outputs)"
   ]
  },
  {
   "cell_type": "code",
   "execution_count": 46,
   "metadata": {
    "collapsed": false
   },
   "outputs": [
    {
     "ename": "ValueError",
     "evalue": "x and y must have same first dimension",
     "output_type": "error",
     "traceback": [
      "\u001b[0;31m---------------------------------------------------------------------------\u001b[0m",
      "\u001b[0;31mValueError\u001b[0m                                Traceback (most recent call last)",
      "\u001b[0;32m<ipython-input-46-c6a5025823d2>\u001b[0m in \u001b[0;36m<module>\u001b[0;34m()\u001b[0m\n\u001b[0;32m----> 1\u001b[0;31m \u001b[0mplt\u001b[0m\u001b[0;34m.\u001b[0m\u001b[0mplot\u001b[0m\u001b[0;34m(\u001b[0m\u001b[0mnp\u001b[0m\u001b[0;34m.\u001b[0m\u001b[0mlinspace\u001b[0m\u001b[0;34m(\u001b[0m\u001b[0;36m0\u001b[0m\u001b[0;34m,\u001b[0m \u001b[0;36m100\u001b[0m\u001b[0;34m,\u001b[0m \u001b[0;36m100\u001b[0m\u001b[0;34m)\u001b[0m\u001b[0;34m,\u001b[0m \u001b[0mresponse_A\u001b[0m\u001b[0;34m[\u001b[0m\u001b[0;36m200\u001b[0m\u001b[0;34m:\u001b[0m\u001b[0;34m]\u001b[0m\u001b[0;34m,\u001b[0m \u001b[0mlabel\u001b[0m\u001b[0;34m=\u001b[0m\u001b[0;34m'Response to $A$'\u001b[0m\u001b[0;34m,\u001b[0m \u001b[0mlinewidth\u001b[0m\u001b[0;34m=\u001b[0m\u001b[0;36m2.0\u001b[0m\u001b[0;34m)\u001b[0m\u001b[0;34m\u001b[0m\u001b[0m\n\u001b[0m\u001b[1;32m      2\u001b[0m \u001b[0mplt\u001b[0m\u001b[0;34m.\u001b[0m\u001b[0mplot\u001b[0m\u001b[0;34m(\u001b[0m\u001b[0mnp\u001b[0m\u001b[0;34m.\u001b[0m\u001b[0mlinspace\u001b[0m\u001b[0;34m(\u001b[0m\u001b[0;36m0\u001b[0m\u001b[0;34m,\u001b[0m \u001b[0;36m100\u001b[0m\u001b[0;34m,\u001b[0m \u001b[0;36m100\u001b[0m\u001b[0;34m)\u001b[0m\u001b[0;34m,\u001b[0m \u001b[0mresponse_B\u001b[0m\u001b[0;34m[\u001b[0m\u001b[0;36m200\u001b[0m\u001b[0;34m:\u001b[0m\u001b[0;34m]\u001b[0m\u001b[0;34m,\u001b[0m \u001b[0mlabel\u001b[0m\u001b[0;34m=\u001b[0m\u001b[0;34m'Response to $B$'\u001b[0m\u001b[0;34m,\u001b[0m \u001b[0mlinewidth\u001b[0m\u001b[0;34m=\u001b[0m\u001b[0;36m2.0\u001b[0m\u001b[0;34m)\u001b[0m\u001b[0;34m\u001b[0m\u001b[0m\n\u001b[1;32m      3\u001b[0m \u001b[0mplt\u001b[0m\u001b[0;34m.\u001b[0m\u001b[0mlegend\u001b[0m\u001b[0;34m(\u001b[0m\u001b[0mloc\u001b[0m\u001b[0;34m=\u001b[0m\u001b[0;34m'lower left'\u001b[0m\u001b[0;34m)\u001b[0m\u001b[0;34m\u001b[0m\u001b[0m\n\u001b[1;32m      4\u001b[0m \u001b[0mplt\u001b[0m\u001b[0;34m.\u001b[0m\u001b[0mtitle\u001b[0m\u001b[0;34m(\u001b[0m\u001b[0;34m'100 trials of of $A+, B-$ without $A-, B-$ preconditioning'\u001b[0m\u001b[0;34m)\u001b[0m\u001b[0;34m\u001b[0m\u001b[0m\n\u001b[1;32m      5\u001b[0m \u001b[0mplt\u001b[0m\u001b[0;34m.\u001b[0m\u001b[0maxes\u001b[0m\u001b[0;34m(\u001b[0m\u001b[0;34m)\u001b[0m\u001b[0;34m.\u001b[0m\u001b[0mgrid\u001b[0m\u001b[0;34m(\u001b[0m\u001b[0;34m'off'\u001b[0m\u001b[0;34m)\u001b[0m\u001b[0;34m\u001b[0m\u001b[0m\n",
      "\u001b[0;32m/usr/local/lib/python2.7/site-packages/matplotlib/pyplot.pyc\u001b[0m in \u001b[0;36mplot\u001b[0;34m(*args, **kwargs)\u001b[0m\n\u001b[1;32m   3152\u001b[0m         \u001b[0max\u001b[0m\u001b[0;34m.\u001b[0m\u001b[0mhold\u001b[0m\u001b[0;34m(\u001b[0m\u001b[0mhold\u001b[0m\u001b[0;34m)\u001b[0m\u001b[0;34m\u001b[0m\u001b[0m\n\u001b[1;32m   3153\u001b[0m     \u001b[0;32mtry\u001b[0m\u001b[0;34m:\u001b[0m\u001b[0;34m\u001b[0m\u001b[0m\n\u001b[0;32m-> 3154\u001b[0;31m         \u001b[0mret\u001b[0m \u001b[0;34m=\u001b[0m \u001b[0max\u001b[0m\u001b[0;34m.\u001b[0m\u001b[0mplot\u001b[0m\u001b[0;34m(\u001b[0m\u001b[0;34m*\u001b[0m\u001b[0margs\u001b[0m\u001b[0;34m,\u001b[0m \u001b[0;34m**\u001b[0m\u001b[0mkwargs\u001b[0m\u001b[0;34m)\u001b[0m\u001b[0;34m\u001b[0m\u001b[0m\n\u001b[0m\u001b[1;32m   3155\u001b[0m     \u001b[0;32mfinally\u001b[0m\u001b[0;34m:\u001b[0m\u001b[0;34m\u001b[0m\u001b[0m\n\u001b[1;32m   3156\u001b[0m         \u001b[0max\u001b[0m\u001b[0;34m.\u001b[0m\u001b[0mhold\u001b[0m\u001b[0;34m(\u001b[0m\u001b[0mwashold\u001b[0m\u001b[0;34m)\u001b[0m\u001b[0;34m\u001b[0m\u001b[0m\n",
      "\u001b[0;32m/usr/local/lib/python2.7/site-packages/matplotlib/__init__.pyc\u001b[0m in \u001b[0;36minner\u001b[0;34m(ax, *args, **kwargs)\u001b[0m\n\u001b[1;32m   1810\u001b[0m                     warnings.warn(msg % (label_namer, func.__name__),\n\u001b[1;32m   1811\u001b[0m                                   RuntimeWarning, stacklevel=2)\n\u001b[0;32m-> 1812\u001b[0;31m             \u001b[0;32mreturn\u001b[0m \u001b[0mfunc\u001b[0m\u001b[0;34m(\u001b[0m\u001b[0max\u001b[0m\u001b[0;34m,\u001b[0m \u001b[0;34m*\u001b[0m\u001b[0margs\u001b[0m\u001b[0;34m,\u001b[0m \u001b[0;34m**\u001b[0m\u001b[0mkwargs\u001b[0m\u001b[0;34m)\u001b[0m\u001b[0;34m\u001b[0m\u001b[0m\n\u001b[0m\u001b[1;32m   1813\u001b[0m         \u001b[0mpre_doc\u001b[0m \u001b[0;34m=\u001b[0m \u001b[0minner\u001b[0m\u001b[0;34m.\u001b[0m\u001b[0m__doc__\u001b[0m\u001b[0;34m\u001b[0m\u001b[0m\n\u001b[1;32m   1814\u001b[0m         \u001b[0;32mif\u001b[0m \u001b[0mpre_doc\u001b[0m \u001b[0;32mis\u001b[0m \u001b[0mNone\u001b[0m\u001b[0;34m:\u001b[0m\u001b[0;34m\u001b[0m\u001b[0m\n",
      "\u001b[0;32m/usr/local/lib/python2.7/site-packages/matplotlib/axes/_axes.pyc\u001b[0m in \u001b[0;36mplot\u001b[0;34m(self, *args, **kwargs)\u001b[0m\n\u001b[1;32m   1422\u001b[0m             \u001b[0mkwargs\u001b[0m\u001b[0;34m[\u001b[0m\u001b[0;34m'color'\u001b[0m\u001b[0;34m]\u001b[0m \u001b[0;34m=\u001b[0m \u001b[0mc\u001b[0m\u001b[0;34m\u001b[0m\u001b[0m\n\u001b[1;32m   1423\u001b[0m \u001b[0;34m\u001b[0m\u001b[0m\n\u001b[0;32m-> 1424\u001b[0;31m         \u001b[0;32mfor\u001b[0m \u001b[0mline\u001b[0m \u001b[0;32min\u001b[0m \u001b[0mself\u001b[0m\u001b[0;34m.\u001b[0m\u001b[0m_get_lines\u001b[0m\u001b[0;34m(\u001b[0m\u001b[0;34m*\u001b[0m\u001b[0margs\u001b[0m\u001b[0;34m,\u001b[0m \u001b[0;34m**\u001b[0m\u001b[0mkwargs\u001b[0m\u001b[0;34m)\u001b[0m\u001b[0;34m:\u001b[0m\u001b[0;34m\u001b[0m\u001b[0m\n\u001b[0m\u001b[1;32m   1425\u001b[0m             \u001b[0mself\u001b[0m\u001b[0;34m.\u001b[0m\u001b[0madd_line\u001b[0m\u001b[0;34m(\u001b[0m\u001b[0mline\u001b[0m\u001b[0;34m)\u001b[0m\u001b[0;34m\u001b[0m\u001b[0m\n\u001b[1;32m   1426\u001b[0m             \u001b[0mlines\u001b[0m\u001b[0;34m.\u001b[0m\u001b[0mappend\u001b[0m\u001b[0;34m(\u001b[0m\u001b[0mline\u001b[0m\u001b[0;34m)\u001b[0m\u001b[0;34m\u001b[0m\u001b[0m\n",
      "\u001b[0;32m/usr/local/lib/python2.7/site-packages/matplotlib/axes/_base.pyc\u001b[0m in \u001b[0;36m_grab_next_args\u001b[0;34m(self, *args, **kwargs)\u001b[0m\n\u001b[1;32m    384\u001b[0m                 \u001b[0;32mreturn\u001b[0m\u001b[0;34m\u001b[0m\u001b[0m\n\u001b[1;32m    385\u001b[0m             \u001b[0;32mif\u001b[0m \u001b[0mlen\u001b[0m\u001b[0;34m(\u001b[0m\u001b[0mremaining\u001b[0m\u001b[0;34m)\u001b[0m \u001b[0;34m<=\u001b[0m \u001b[0;36m3\u001b[0m\u001b[0;34m:\u001b[0m\u001b[0;34m\u001b[0m\u001b[0m\n\u001b[0;32m--> 386\u001b[0;31m                 \u001b[0;32mfor\u001b[0m \u001b[0mseg\u001b[0m \u001b[0;32min\u001b[0m \u001b[0mself\u001b[0m\u001b[0;34m.\u001b[0m\u001b[0m_plot_args\u001b[0m\u001b[0;34m(\u001b[0m\u001b[0mremaining\u001b[0m\u001b[0;34m,\u001b[0m \u001b[0mkwargs\u001b[0m\u001b[0;34m)\u001b[0m\u001b[0;34m:\u001b[0m\u001b[0;34m\u001b[0m\u001b[0m\n\u001b[0m\u001b[1;32m    387\u001b[0m                     \u001b[0;32myield\u001b[0m \u001b[0mseg\u001b[0m\u001b[0;34m\u001b[0m\u001b[0m\n\u001b[1;32m    388\u001b[0m                 \u001b[0;32mreturn\u001b[0m\u001b[0;34m\u001b[0m\u001b[0m\n",
      "\u001b[0;32m/usr/local/lib/python2.7/site-packages/matplotlib/axes/_base.pyc\u001b[0m in \u001b[0;36m_plot_args\u001b[0;34m(self, tup, kwargs)\u001b[0m\n\u001b[1;32m    362\u001b[0m             \u001b[0mx\u001b[0m\u001b[0;34m,\u001b[0m \u001b[0my\u001b[0m \u001b[0;34m=\u001b[0m \u001b[0mindex_of\u001b[0m\u001b[0;34m(\u001b[0m\u001b[0mtup\u001b[0m\u001b[0;34m[\u001b[0m\u001b[0;34m-\u001b[0m\u001b[0;36m1\u001b[0m\u001b[0;34m]\u001b[0m\u001b[0;34m)\u001b[0m\u001b[0;34m\u001b[0m\u001b[0m\n\u001b[1;32m    363\u001b[0m \u001b[0;34m\u001b[0m\u001b[0m\n\u001b[0;32m--> 364\u001b[0;31m         \u001b[0mx\u001b[0m\u001b[0;34m,\u001b[0m \u001b[0my\u001b[0m \u001b[0;34m=\u001b[0m \u001b[0mself\u001b[0m\u001b[0;34m.\u001b[0m\u001b[0m_xy_from_xy\u001b[0m\u001b[0;34m(\u001b[0m\u001b[0mx\u001b[0m\u001b[0;34m,\u001b[0m \u001b[0my\u001b[0m\u001b[0;34m)\u001b[0m\u001b[0;34m\u001b[0m\u001b[0m\n\u001b[0m\u001b[1;32m    365\u001b[0m \u001b[0;34m\u001b[0m\u001b[0m\n\u001b[1;32m    366\u001b[0m         \u001b[0;32mif\u001b[0m \u001b[0mself\u001b[0m\u001b[0;34m.\u001b[0m\u001b[0mcommand\u001b[0m \u001b[0;34m==\u001b[0m \u001b[0;34m'plot'\u001b[0m\u001b[0;34m:\u001b[0m\u001b[0;34m\u001b[0m\u001b[0m\n",
      "\u001b[0;32m/usr/local/lib/python2.7/site-packages/matplotlib/axes/_base.pyc\u001b[0m in \u001b[0;36m_xy_from_xy\u001b[0;34m(self, x, y)\u001b[0m\n\u001b[1;32m    221\u001b[0m         \u001b[0my\u001b[0m \u001b[0;34m=\u001b[0m \u001b[0m_check_1d\u001b[0m\u001b[0;34m(\u001b[0m\u001b[0my\u001b[0m\u001b[0;34m)\u001b[0m\u001b[0;34m\u001b[0m\u001b[0m\n\u001b[1;32m    222\u001b[0m         \u001b[0;32mif\u001b[0m \u001b[0mx\u001b[0m\u001b[0;34m.\u001b[0m\u001b[0mshape\u001b[0m\u001b[0;34m[\u001b[0m\u001b[0;36m0\u001b[0m\u001b[0;34m]\u001b[0m \u001b[0;34m!=\u001b[0m \u001b[0my\u001b[0m\u001b[0;34m.\u001b[0m\u001b[0mshape\u001b[0m\u001b[0;34m[\u001b[0m\u001b[0;36m0\u001b[0m\u001b[0;34m]\u001b[0m\u001b[0;34m:\u001b[0m\u001b[0;34m\u001b[0m\u001b[0m\n\u001b[0;32m--> 223\u001b[0;31m             \u001b[0;32mraise\u001b[0m \u001b[0mValueError\u001b[0m\u001b[0;34m(\u001b[0m\u001b[0;34m\"x and y must have same first dimension\"\u001b[0m\u001b[0;34m)\u001b[0m\u001b[0;34m\u001b[0m\u001b[0m\n\u001b[0m\u001b[1;32m    224\u001b[0m         \u001b[0;32mif\u001b[0m \u001b[0mx\u001b[0m\u001b[0;34m.\u001b[0m\u001b[0mndim\u001b[0m \u001b[0;34m>\u001b[0m \u001b[0;36m2\u001b[0m \u001b[0;32mor\u001b[0m \u001b[0my\u001b[0m\u001b[0;34m.\u001b[0m\u001b[0mndim\u001b[0m \u001b[0;34m>\u001b[0m \u001b[0;36m2\u001b[0m\u001b[0;34m:\u001b[0m\u001b[0;34m\u001b[0m\u001b[0m\n\u001b[1;32m    225\u001b[0m             \u001b[0;32mraise\u001b[0m \u001b[0mValueError\u001b[0m\u001b[0;34m(\u001b[0m\u001b[0;34m\"x and y can be no greater than 2-D\"\u001b[0m\u001b[0;34m)\u001b[0m\u001b[0;34m\u001b[0m\u001b[0m\n",
      "\u001b[0;31mValueError\u001b[0m: x and y must have same first dimension"
     ]
    },
    {
     "data": {
      "image/png": "[encoded data removed]",
      "text/plain": [
       "<matplotlib.figure.Figure at 0x104007ed0>"
      ]
     },
     "metadata": {},
     "output_type": "display_data"
    }
   ],
   "source": [
    "plt.plot(np.linspace(0, 100, 100), response_A[200:], label='Response to $A$', linewidth=2.0)\n",
    "plt.plot(np.linspace(0, 100, 100), response_B[200:], label='Response to $B$', linewidth=2.0)\n",
    "plt.legend(loc='lower left')\n",
    "plt.title('100 trials of of $A+, B-$ without $A-, B-$ preconditioning')\n",
    "plt.axes().grid('off')\n",
    "plt.ylim(-0.1, 1.1)"
   ]
  },
  {
   "cell_type": "code",
   "execution_count": 100,
   "metadata": {
    "collapsed": false
   },
   "outputs": [],
   "source": [
    "cort = cortex.Cortex(20, 60, 1, 10)\n",
    "response_A = []\n",
    "response_B = []\n",
    "\n",
    "inputs, outputs = construct_io() \n",
    "inputs[1] = 1\n",
    "cort.forward(inputs, np.zeros(10))\n",
    "A_np = cort.outputs\n",
    "inputs[1] = 0\n",
    "\n",
    "for epoch in xrange(300):\n",
    "    inputs[1:3] = (1, 0)\n",
    "\n",
    "    for trial in xrange(1,3):\n",
    "        cort.forward(inputs, np.zeros(10))\n",
    "        cort.backward(1)\n",
    "        randomize_io(inputs, outputs)\n",
    "    \n",
    "    response_A.append(cort.outputs)\n",
    "    inputs[1:3] = (0, 0)\n",
    "\n",
    "    for trial in xrange(3, 5):\n",
    "        cort.forward(inputs, np.zeros(10))\n",
    "        cort.backward(0)\n",
    "        randomize_io(inputs, outputs)\n",
    "inputs[1:3] = (1, 0)\n",
    "cort.forward(inputs, np.zeros(10))\n",
    "A_p = np.mean(np.array(response_A))"
   ]
  },
  {
   "cell_type": "code",
   "execution_count": 101,
   "metadata": {
    "collapsed": false
   },
   "outputs": [
    {
     "data": {
      "image/png": "[encoded data removed]",
      "text/plain": [
       "<matplotlib.figure.Figure at 0x106c3d810>"
      ]
     },
     "metadata": {},
     "output_type": "display_data"
    }
   ],
   "source": [
    "rcParams['figure.figsize'] = (8, 6)\n",
    "vals1 = np.array([A_hp, A_p])\n",
    "vals2 = np.array([A_hnp, A_np])\n",
    "fig, ax = plt.subplots()\n",
    "\n",
    "ax.bar(np.arange(2), vals1, width=0.5, color=rcParams['axes.color_cycle'][0], label='With preconditioning')\n",
    "ax.bar(np.arange(2) + 0.5, vals2, width=0.5, color=rcParams['axes.color_cycle'][1], label='Without preconditioning')\n",
    "ax.legend(loc='upper right')\n",
    "plt.title('Response')\n",
    "ax.grid('off')\n",
    "ax.set_xticklabels(['', 'w/ Hippocampus', '', 'w/o Hippocampus'])\n",
    "#fig.savefig('figure4.pdf')"
   ]
  },
  {
   "cell_type": "code",
   "execution_count": null,
   "metadata": {
    "collapsed": true
   },
   "outputs": [],
   "source": []
  }
 ],
 "metadata": {
  "kernelspec": {
   "display_name": "Python 2",
   "language": "python",
   "name": "python2"
  },
  "language_info": {
   "codemirror_mode": {
    "name": "ipython",
    "version": 2
   },
   "file_extension": ".py",
   "mimetype": "text/x-python",
   "name": "python",
   "nbconvert_exporter": "python",
   "pygments_lexer": "ipython2",
   "version": "2.7.11"
  }
 },
 "nbformat": 4,
 "nbformat_minor": 0
}
