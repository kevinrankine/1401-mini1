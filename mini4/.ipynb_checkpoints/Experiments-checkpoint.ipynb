{
 "cells": [
  {
   "cell_type": "code",
   "execution_count": 2,
   "metadata": {
    "collapsed": false
   },
   "outputs": [],
   "source": [
    "import numpy as np\n",
    "import hippo\n",
    "import cortex\n",
    "import network"
   ]
  },
  {
   "cell_type": "code",
   "execution_count": 3,
   "metadata": {
    "collapsed": false
   },
   "outputs": [],
   "source": [
    "def construct_io():\n",
    "    inputs = np.random.rand(20)\n",
    "    inputs[-1] = 1\n",
    "    inputs[:4] = (0, 0, 0, 0)\n",
    "    outputs = np.copy(inputs)\n",
    "    \n",
    "    return inputs, outputs\n",
    "\n",
    "def randomize_io(i, o): \n",
    "    if np.random.rand() < 0.01:\n",
    "        index = 4 + int(np.random.rand() * (len(i) - 4))\n",
    "        value = np.random.rand()\n",
    "        i[index] = value\n",
    "        o[index] = value\n",
    "        \n",
    "def experiment(cs, inputs, outputs, US=1, trials=100, responses=None):\n",
    "    if responses is None:\n",
    "        responses = {c : [] for c in cs}\n",
    "    \n",
    "    for epoch in xrange(100):\n",
    "        outputs[0] = US\n",
    "        inputs[cs] = 1\n",
    "        outputs[cs] = 1\n",
    "        \n",
    "        for trial in range(len(cs)):\n",
    "            net.forward(inputs)\n",
    "            net.backward(outputs)\n",
    "            randomize_io(inputs, outputs)\n",
    "            \n",
    "        for c in cs:\n",
    "            pass\n",
    "            \n",
    "        outputs[0] = 0\n",
    "        inputs[cs] = 0\n",
    "        outputs[cs] = 0\n",
    "        \n",
    "        for trial in range(len(cs)):\n",
    "            net.forward(inputs)\n",
    "            net.backward(outputs)\n",
    "            randomize_io(inputs, outputs)\n",
    "        \n",
    "            "
   ]
  },
  {
   "cell_type": "code",
   "execution_count": 4,
   "metadata": {
    "collapsed": false
   },
   "outputs": [],
   "source": [
    "hip = hippo.Hippo(20, 10)\n",
    "cort = cortex.Cortex(20, 60, 1, 10)\n",
    "net = network.Network(hip, cort)\n",
    "inputs, outputs = construct_io()\n",
    "response_A = []\n",
    "response_B = []"
   ]
  },
  {
   "cell_type": "code",
   "execution_count": 5,
   "metadata": {
    "collapsed": false
   },
   "outputs": [
    {
     "name": "stderr",
     "output_type": "stream",
     "text": [
      "cortex.py:41: RuntimeWarning: overflow encountered in exp\n",
      "  return 1.0 / (1 + np.exp(-x)*np.exp(-y))\n",
      "cortex.py:41: RuntimeWarning: overflow encountered in multiply\n",
      "  return 1.0 / (1 + np.exp(-x)*np.exp(-y))\n"
     ]
    }
   ],
   "source": [
    "for epoch in xrange(100):\n",
    "    outputs[0] = 0\n",
    "    inputs[1:3] = (1, 1)\n",
    "    outputs[1:3] = (1, 1)\n",
    "\n",
    "    for trial in xrange(1,3):\n",
    "        net.forward(inputs)\n",
    "        net.backward(outputs)\n",
    "        randomize_io(inputs, outputs)\n",
    "    \n",
    "    response_A.append(net.cort.outputs)\n",
    "    response_B.append(net.cort.outputs)\n",
    "    inputs[1:3] = (0, 0)\n",
    "    outputs[1:3] = (0, 0)\n",
    "\n",
    "    for trial in xrange(3, 10):\n",
    "        net.forward(inputs)\n",
    "        net.backward(outputs)\n",
    "        randomize_io(inputs, outputs)\n",
    "\n",
    "inputs[1:3] = (0, 0)\n",
    "outputs[1:3] = (0, 0)\n",
    "for epoch in xrange(100):\n",
    "    inputs[1] = 1\n",
    "    outputs[0:2] = 1\n",
    "\n",
    "    for trial in xrange(1,2):\n",
    "        net.forward(inputs)\n",
    "        net.backward(outputs, learn=False)\n",
    "        randomize_io(inputs, outputs)\n",
    "    \n",
    "    response_A.append(net.cort.outputs)\n",
    "    inputs[1:3] = (0,1)\n",
    "    net.forward(inputs)\n",
    "    response_B.append(net.cort.outputs)\n",
    "    inputs[1:3] = (0, 0)\n",
    "\n",
    "    inputs[1] = 0\n",
    "    outputs[0:2] = 0\n",
    "\n",
    "    for trial in xrange(2, 10):\n",
    "        net.forward(inputs)\n",
    "        net.backward(outputs, learn=False)\n",
    "        randomize_io(inputs, outputs)"
   ]
  },
  {
   "cell_type": "code",
   "execution_count": 6,
   "metadata": {
    "collapsed": false
   },
   "outputs": [
    {
     "name": "stderr",
     "output_type": "stream",
     "text": [
      "/usr/local/lib/python2.7/site-packages/matplotlib/font_manager.py:273: UserWarning: Matplotlib is building the font cache using fc-list. This may take a moment.\n",
      "  warnings.warn('Matplotlib is building the font cache using fc-list. This may take a moment.')\n"
     ]
    },
    {
     "data": {
      "image/png": "[encoded data removed]",
      "text/plain": [
       "<matplotlib.figure.Figure at 0x108d6ad50>"
      ]
     },
     "metadata": {},
     "output_type": "display_data"
    }
   ],
   "source": [
    "%matplotlib inline\n",
    "import matplotlib.pyplot as plt\n",
    "from matplotlib.pylab import rcParams\n",
    "rcParams['figure.figsize'] = (8, 6)\n",
    "plt.style.use('ggplot')\n",
    "\n",
    "plt.plot(np.linspace(0, 200, 200), response_A, label='Response to $A$', linewidth=2.0)\n",
    "plt.plot(np.linspace(0, 200, 200), response_B, label='Response to $B$', linewidth=2.0)\n",
    "plt.legend(loc='upper left')\n",
    "plt.title('100 trials of $AB- $ followed by 100 trials of $A+$')\n",
    "plt.ylim(-0.1, 1.1)\n",
    "plt.axes().grid('off')\n",
    "plt.savefig('figure1.pdf')"
   ]
  },
  {
   "cell_type": "code",
   "execution_count": 69,
   "metadata": {
    "collapsed": true
   },
   "outputs": [],
   "source": [
    "hip = hippo.Hippo(20, 10)\n",
    "cort = cortex.Cortex(20, 60, 1, 10)\n",
    "net = network.Network(hip, cort)\n",
    "inputs, outputs = construct_io()\n",
    "response_A = []\n",
    "response_B = []"
   ]
  },
  {
   "cell_type": "code",
   "execution_count": 70,
   "metadata": {
    "collapsed": false
   },
   "outputs": [],
   "source": [
    "# for epoch in xrange(200):\n",
    "#     outputs[0] = 0\n",
    "#     inputs[1:3] = (1, 1)\n",
    "#     outputs[1:3] = (1, 1)\n",
    "\n",
    "#     for trial in xrange(1,3):\n",
    "#         net.forward(inputs)\n",
    "#         net.backward(outputs)\n",
    "#         randomize_io(inputs, outputs)\n",
    "    \n",
    "#     response_A.append(net.cort.outputs)\n",
    "#     response_B.append(net.cort.outputs)\n",
    "#     inputs[1:3] = (0, 0)\n",
    "#     outputs[1:3] = (0, 0)\n",
    "\n",
    "#     for trial in xrange(3, 10):\n",
    "#         net.forward(inputs)\n",
    "#         net.backward(outputs)\n",
    "#         randomize_io(inputs, outputs)\n",
    "\n",
    "inputs[1:3] = (0, 0)\n",
    "outputs[1:3] = (0, 0)\n",
    "for epoch in xrange(100):\n",
    "    inputs[1:3] = (1, 0)\n",
    "    outputs[0:3] = (1, 1, 0)\n",
    "    \n",
    "    net.forward(inputs)\n",
    "    net.backward(outputs, learn=True)\n",
    "    randomize_io(inputs, outputs)\n",
    "    \n",
    "    inputs[1:3] = (0, 1)\n",
    "    outputs[0:3] = (0, 0, 1)\n",
    "    \n",
    "    net.forward(inputs)\n",
    "    net.backward(outputs, learn=True)\n",
    "\n",
    "    inputs[1:3] = (1, 0)\n",
    "    net.forward(inputs)\n",
    "    response_A.append(net.cort.outputs)\n",
    "    inputs[1:3] = (0,1)\n",
    "    net.forward(inputs)\n",
    "    response_B.append(net.cort.outputs)\n",
    "    inputs[1:3] = (0, 0)\n",
    "\n",
    "    inputs[1] = 0\n",
    "    outputs[0:2] = 0\n",
    "\n",
    "    for trial in xrange(2, 10):\n",
    "        net.forward(inputs)\n",
    "        net.backward(outputs, learn=True)\n",
    "        randomize_io(inputs, outputs)"
   ]
  },
  {
   "cell_type": "code",
   "execution_count": 74,
   "metadata": {
    "collapsed": false
   },
   "outputs": [
    {
     "data": {
      "image/png": "[encoded data removed]",
      "text/plain": [
       "<matplotlib.figure.Figure at 0x113069090>"
      ]
     },
     "metadata": {},
     "output_type": "display_data"
    }
   ],
   "source": [
    "plt.plot(np.linspace(0, 100, 100), response_A, label='Response to $A$', linewidth=2.0)\n",
    "plt.plot(np.linspace(0, 100, 100), response_B, label='Response to $B$', linewidth=2.0)\n",
    "plt.legend(loc='lower left')\n",
    "plt.title('100 trials of of $A+, B-$ without $A-, B-$ preconditioning')\n",
    "plt.axes().grid('off')\n",
    "plt.ylim(-0.1, 1.1)\n",
    "plt.savefig('figure3.pdf')"
   ]
  },
  {
   "cell_type": "code",
   "execution_count": 72,
   "metadata": {
    "collapsed": false
   },
   "outputs": [
    {
     "data": {
      "text/plain": [
       "<matplotlib.figure.Figure at 0x112b44ad0>"
      ]
     },
     "metadata": {},
     "output_type": "display_data"
    }
   ],
   "source": [
    "plt.savefig('figure3.pdf')"
   ]
  },
  {
   "cell_type": "code",
   "execution_count": null,
   "metadata": {
    "collapsed": true
   },
   "outputs": [],
   "source": [
    "cort = cortex.Cortex(20, 60, 1, 10)\n",
    "response_A = []\n",
    "inputs, outputs = construct_io() \n",
    "\n",
    "for epoch in xrange(100):\n",
    "    inputs[1:3] = (1, 1)\n",
    "    outputs[1:3] = (1, 1)\n",
    "\n",
    "    for trial in xrange(1,3):\n",
    "        cort.forward(inputs)\n",
    "        net.backward(outputs)\n",
    "        randomize_io(inputs, outputs)\n",
    "    \n",
    "    response_A.append(net.cort.outputs)\n",
    "    response_B.append(net.cort.outputs)\n",
    "    inputs[1:3] = (0, 0)\n",
    "    outputs[1:3] = (0, 0)\n",
    "\n",
    "    for trial in xrange(3, 10):\n",
    "        net.forward(inputs)\n",
    "        net.backward(outputs)\n",
    "        randomize_io(inputs, outputs)"
   ]
  }
 ],
 "metadata": {
  "kernelspec": {
   "display_name": "Python 2",
   "language": "python",
   "name": "python2"
  },
  "language_info": {
   "codemirror_mode": {
    "name": "ipython",
    "version": 2
   },
   "file_extension": ".py",
   "mimetype": "text/x-python",
   "name": "python",
   "nbconvert_exporter": "python",
   "pygments_lexer": "ipython2",
   "version": "2.7.11"
  }
 },
 "nbformat": 4,
 "nbformat_minor": 0
}
