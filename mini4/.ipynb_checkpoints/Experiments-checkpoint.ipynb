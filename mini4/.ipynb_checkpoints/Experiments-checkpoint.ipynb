{
 "cells": [
  {
   "cell_type": "code",
   "execution_count": 7,
   "metadata": {
    "collapsed": true
   },
   "outputs": [],
   "source": [
    "import numpy as np\n",
    "import hippo\n",
    "import cortex"
   ]
  },
  {
   "cell_type": "code",
   "execution_count": 8,
   "metadata": {
    "collapsed": true
   },
   "outputs": [],
   "source": [
    "def construct_io():\n",
    "    inputs = np.random.rand(20)\n",
    "    inputs[-1] = 1 # bias term\n",
    "    inputs[:4] = (0, 0, 0, 0)\n",
    "    outputs = np.copy(inputs)\n",
    "    \n",
    "    return inputs, outputs\n",
    "\n",
    "def randomize_io(i, o): \n",
    "    if np.random.rand() < 0.01:\n",
    "        index = 4 + int(np.random.rand() * (len(i) - 4))\n",
    "        value = np.random.rand()\n",
    "        i[index] = value\n",
    "        o[index] = value"
   ]
  },
  {
   "cell_type": "code",
   "execution_count": 42,
   "metadata": {
    "collapsed": true
   },
   "outputs": [],
   "source": [
    "hip = hippo.Hippo(20, 10)\n",
    "inputs, outputs = construct_io()\n",
    "cort = cortex.Cortex(20, 60, 1, 10)"
   ]
  },
  {
   "cell_type": "code",
   "execution_count": 43,
   "metadata": {
    "collapsed": false
   },
   "outputs": [],
   "source": [
    "for epoch in xrange(300):\n",
    "    outputs[0] = 0\n",
    "    inputs[1:3] = (1, 1)\n",
    "    outputs[1:3] = (1, 1)\n",
    "\n",
    "    for trial in xrange(1,2):\n",
    "        hip.forward(inputs)\n",
    "        hip.backward(outputs)\n",
    "        cort.forward(inputs, hip.hiddens)\n",
    "        cort.backward(0)\n",
    "        randomize_io(inputs, outputs)\n",
    "\n",
    "    inputs[1:3] = (0, 0)\n",
    "    outputs[1:3] = (0, 0)\n",
    "\n",
    "    for trial in xrange(2, 10):\n",
    "        hip.forward(inputs)\n",
    "        hip.backward(outputs)\n",
    "        cort.forward(inputs, hip.hiddens)\n",
    "        cort.backward(0)\n",
    "        randomize_io(inputs, outputs)"
   ]
  },
  {
   "cell_type": "code",
   "execution_count": 44,
   "metadata": {
    "collapsed": true
   },
   "outputs": [],
   "source": [
    "inputs[1:3] = (0, 0)\n",
    "outputs[1:3] = (0, 0)\n",
    "for epoch in xrange(150):\n",
    "    inputs[1] = 1\n",
    "    outputs[1] = 1\n",
    "    outputs[0] = 1\n",
    "\n",
    "    for trial in xrange(1,3):\n",
    "        hip.forward(inputs)\n",
    "        hip.backward(outputs)\n",
    "        cort.forward(inputs, hip.hiddens)\n",
    "        cort.backward(1)\n",
    "        randomize_io(inputs, outputs)\n",
    "\n",
    "    inputs[1] = 0\n",
    "    outputs[1] = 0\n",
    "    outputs[0] = 0\n",
    "\n",
    "    for trial in xrange(3, 10):\n",
    "        hip.forward(inputs)\n",
    "        hip.backward(outputs)\n",
    "        cort.forward(inputs, hip.hiddens)\n",
    "        cort.backward(0)\n",
    "        randomize_io(inputs, outputs)"
   ]
  },
  {
   "cell_type": "code",
   "execution_count": 49,
   "metadata": {
    "collapsed": false
   },
   "outputs": [
    {
     "name": "stdout",
     "output_type": "stream",
     "text": [
      "[ 0.76229925]\n"
     ]
    }
   ],
   "source": [
    "inputs[1] = 0\n",
    "inputs[2] = 1\n",
    "hip.forward(inputs)\n",
    "cort.forward(inputs, np.zeros(10))\n",
    "print cort.outputs\n",
    "inputs[2] = 0"
   ]
  },
  {
   "cell_type": "code",
   "execution_count": null,
   "metadata": {
    "collapsed": true
   },
   "outputs": [],
   "source": []
  }
 ],
 "metadata": {
  "kernelspec": {
   "display_name": "Python 2",
   "language": "python",
   "name": "python2"
  },
  "language_info": {
   "codemirror_mode": {
    "name": "ipython",
    "version": 2
   },
   "file_extension": ".py",
   "mimetype": "text/x-python",
   "name": "python",
   "nbconvert_exporter": "python",
   "pygments_lexer": "ipython2",
   "version": "2.7.11"
  }
 },
 "nbformat": 4,
 "nbformat_minor": 0
}
