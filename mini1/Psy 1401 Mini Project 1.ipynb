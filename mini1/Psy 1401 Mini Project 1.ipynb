{
 "cells": [
  {
   "cell_type": "code",
   "execution_count": 1,
   "metadata": {
    "collapsed": false
   },
   "outputs": [],
   "source": [
    "import random\n",
    "import numpy as np\n",
    "import matplotlib.pyplot as plt\n",
    "\n",
    "num_complex = 4\n",
    "delta = 0.2\n",
    "alpha = 0.02"
   ]
  },
  {
   "cell_type": "code",
   "execution_count": null,
   "metadata": {
    "collapsed": false
   },
   "outputs": [],
   "source": [
    "from pprint import pprint\n",
    "\n",
    "def main():\n",
    "    N = 8\n",
    "    K = 4\n",
    "    grid = np.array([[[0,0,0,0] for _ in range(N)] for _ in range(N)])\n",
    "\n",
    "    dataset = {}\n",
    "\n",
    "    # horizontal\n",
    "\n",
    "    for i in range(N):\n",
    "        for j in range(N):\n",
    "            grid[i][j] = [0,1,0,0]\n",
    "        if 1 not in dataset:\n",
    "            dataset[1] = [grid]\n",
    "        else:\n",
    "            dataset[1].append(grid)\n",
    "        \n",
    "        grid = np.array([[[0,0,0,0] for _ in range(N)] for _ in range(N)])\n",
    "\n",
    "    # vertical\n",
    "\n",
    "    for i in range(N):\n",
    "        for j in range(N):\n",
    "            grid[j][i] = [1,0,0,0]\n",
    "            if 2 not in dataset:\n",
    "                dataset[2] = [grid]\n",
    "        else:\n",
    "            dataset[2].append(grid)\n",
    "        grid = np.array([[[0,0,0,0] for _ in range(N)] for _ in range(N)])\n",
    "\n",
    "    # ldiagonal - da\n",
    "    \n",
    "    row = 0\n",
    "    col = 0\n",
    "\n",
    "    for i in range(N):\n",
    "        col = i\n",
    "        row = 0\n",
    "\n",
    "        while (col >= 0 and row < N):\n",
    "            grid[row][col] = [0,0,1,0]\n",
    "            row += 1\n",
    "            col -= 1\n",
    "        if 3 not in dataset:\n",
    "            dataset[3] = [grid]\n",
    "        else:\n",
    "            dataset[3].append(grid)\n",
    "        grid = np.array([[[0,0,0,0] for _ in range(N)] for _ in range(N)])\n",
    "\n",
    "    \n",
    "    for i in range(1, N):\n",
    "        row = i\n",
    "        col = N - 1\n",
    "\n",
    "        while (col >= 0 and row < N):\n",
    "            grid[row][col] = [0,0,1,0]\n",
    "            row += 1\n",
    "            col -= 1\n",
    "        if 3 not in dataset:\n",
    "            dataset[3] = [grid]\n",
    "        else:\n",
    "            dataset[3].append(grid)\n",
    "        \n",
    "        grid = np.array([[[0,0,0,0] for _ in range(N)] for _ in range(N)])\n",
    "\n",
    "    # rdiagonal - db\n",
    "\n",
    "    for i in range(N):\n",
    "        col = N - 1 - i\n",
    "        row = 0\n",
    "\n",
    "        while (col < N and row < N):\n",
    "            grid[row][col] = [0,0,0,1]\n",
    "            row += 1\n",
    "            col += 1\n",
    "        if 4 not in dataset:\n",
    "            dataset[4] = [grid]\n",
    "        else:\n",
    "            dataset[4].append(grid)\n",
    "        \n",
    "        grid = np.array([[[0,0,0,0] for _ in range(N)] for _ in range(N)])\n",
    "\n",
    "        \n",
    "\n",
    "    for i in range(1, N):\n",
    "        row = i\n",
    "        col = 0\n",
    "\n",
    "        while (col >= 0 and row < N):\n",
    "            grid[row][col] = [0,0,0,1]\n",
    "            row += 1\n",
    "            col += 1\n",
    "        if 4 not in dataset:\n",
    "            dataset[4] = [grid]\n",
    "        else:\n",
    "            dataset[4].append(grid)\n",
    "        \n",
    "        grid = np.array([[[0,0,0,0] for _ in range(N)] for _ in range(N)])\n",
    "        \n",
    "    dataset[5] = (dataset[2][:5] + dataset[3][4:])[1:]\n",
    "    dataset[6] = dataset[2][:5] + dataset[4][::-1][4:]\n",
    "    \n",
    "    visual_grid = [[1 if 1 in dataset[1][0][i][j] else 0 for i in range(N)] for j in range(N)]\n",
    "    return dataset\n",
    "\n",
    "        \n",
    "            \n",
    "if __name__ == '__main__':\n",
    "    main()"
   ]
  },
  {
   "cell_type": "code",
   "execution_count": null,
   "metadata": {
    "collapsed": false
   },
   "outputs": [],
   "source": [
    "data = main()\n",
    "hframes = data[1]\n",
    "vframes = data[2]\n",
    "daframes = data[3]\n",
    "dbframes = data[4]"
   ]
  },
  {
   "cell_type": "code",
   "execution_count": 10,
   "metadata": {
    "collapsed": false
   },
   "outputs": [],
   "source": [
    "import copy\n",
    "\n",
    "#initialize grid of simple cells\n",
    "def make_grid(n):\n",
    "    return [[make_simple_unit() for i in range(n)] for j in range(n)]\n",
    "\n",
    "#initialize simple unit with four feature detectors\n",
    "def make_simple_unit():\n",
    "    return {'v': initialize(),'h':initialize(),'da':initialize(),'db':initialize()}\n",
    "\n",
    "#initialize feature detector, one weight for each connection to each complex cell\n",
    "def initialize():\n",
    "    return {'firing':0, 'weights':[random.uniform(0,0.1) for i in range(num_complex)]}\n",
    "\n",
    "#initialize complex unit\n",
    "def make_complex_unit():\n",
    "    return {'firing':0,'trace':0}\n",
    "\n",
    "#initialize complex layer\n",
    "def make_complex_layer():\n",
    "    return [make_complex_unit() for i in range(num_complex)]\n",
    "\n",
    "#determine feature detector connection weight change for each time step\n",
    "def find_weight_change(trace,firing,weight):\n",
    "    return alpha*trace*(firing - weight)\n",
    "\n",
    "#determine new complex cell trace for each time step\n",
    "def find_new_trace(firing, trace):\n",
    "    return (1-delta)*trace + delta*firing    \n",
    "\n",
    "#determines which complex cell should fire\n",
    "def which_firing(grid, complex_layer):\n",
    "    sums = {i:0 for i in range(num_complex)}\n",
    "    for i,row in enumerate(grid):\n",
    "        for j,unit in enumerate(row):\n",
    "            for orientation in unit:\n",
    "                firing = unit[orientation]['firing']\n",
    "                if (firing == 1):\n",
    "                    for complex_cell_num in sums:\n",
    "                        sums[complex_cell_num] += firing * unit[orientation]['weights'][complex_cell_num]\n",
    "                weights = unit[orientation]['weights']\n",
    "                for complex_cell_num, weight in enumerate(weights):\n",
    "                    grid[i][j][orientation]['weights'][complex_cell_num] += find_weight_change(complex_layer[complex_cell_num]['trace'],firing,weight)\n",
    "    inverse = [(value, key) for key, value in sums.iteritems()]\n",
    "    return max(inverse)[1]\n",
    "\n",
    "#find instances of firing feature detectors in a frame (firing feature detectors -> \"ffds\")\n",
    "def read_frame(frame):\n",
    "    ffds = []\n",
    "    for (row_num,col_num,feature_detector),is_firing in np.ndenumerate(frame):\n",
    "        if (is_firing == 1):\n",
    "            ffds.append((row_num,col_num,feature_detector))\n",
    "    return ffds\n",
    "\n",
    "def run_model(data):\n",
    "    grid = make_grid(len(data[1][0]))\n",
    "    complex_layer = make_complex_layer()\n",
    "    fd2orient = {0:'v', 1:'h', 2:'da', 3:'db'}\n",
    "    complex_num_firing = 0\n",
    "    grid_record = []\n",
    "    complex_record = []\n",
    "    for k,frames in data.iteritems():\n",
    "        #train frame a given number of times\n",
    "        for i in range(100):\n",
    "            #read through frames\n",
    "            for frame in frames:\n",
    "                \n",
    "                #determine which feature detectors are firing\n",
    "                ffds = read_frame(frame)\n",
    "                for index in ffds:\n",
    "                    row = index[0]\n",
    "                    col = index[1]\n",
    "                    orientation = fd2orient[index[2]]\n",
    "                    grid[row][col][orientation]['firing'] = 1\n",
    "                \n",
    "                #determine which complex cell will fire\n",
    "                complex_num_firing = which_firing(grid, complex_layer)\n",
    "                complex_layer[complex_num_firing]['firing'] = 1\n",
    "                \n",
    "                #determine new trace of each complex unit\n",
    "                for complex_unit in complex_layer:\n",
    "                    complex_unit['trace'] = find_new_trace(complex_unit['firing'],complex_unit['trace'])  \n",
    "                \n",
    "                #reset units\n",
    "                for index in ffds:\n",
    "                    row = index[0]\n",
    "                    col = index[1]\n",
    "                    orientation = fd2orient[index[2]]\n",
    "                    grid[row][col][orientation]['firing'] = 0\n",
    "                complex_layer[complex_num_firing]['firing'] = 0\n",
    "            \n",
    "            complex_record.append(copy.deepcopy(complex_layer))\n",
    "            grid_record.append(copy.deepcopy(grid))\n",
    "            \n",
    "    return complex_record, grid_record\n",
    "                "
   ]
  },
  {
   "cell_type": "code",
   "execution_count": 11,
   "metadata": {
    "collapsed": false,
    "scrolled": true
   },
   "outputs": [],
   "source": [
    "complex_record, grid_record = run_model(data)"
   ]
  },
  {
   "cell_type": "code",
   "execution_count": 12,
   "metadata": {
    "collapsed": false
   },
   "outputs": [],
   "source": [
    "vweights = [[[simple['v']['weights'] for simple in row] for row in grid] for grid in grid_record]\n",
    "hweights = [[[simple['h']['weights'] for simple in row] for row in grid] for grid in grid_record]\n",
    "daweights = [[[simple['da']['weights'] for simple in row] for row in grid] for grid in grid_record]\n",
    "dbweights = [[[simple['db']['weights'] for simple in row] for row in grid] for grid in grid_record]\n",
    "traces = [[entry['trace'] for entry in layer] for layer in complex_record]"
   ]
  },
  {
   "cell_type": "code",
   "execution_count": 13,
   "metadata": {
    "collapsed": false
   },
   "outputs": [
    {
     "name": "stdout",
     "output_type": "stream",
     "text": [
      "Traceback (most recent call last):\n",
      "  File \"/Users/rankine/anaconda/lib/python2.7/site-packages/IPython/core/ultratb.py\", line 970, in get_records\n",
      "    return _fixed_getinnerframes(etb, number_of_lines_of_context, tb_offset)\n",
      "  File \"/Users/rankine/anaconda/lib/python2.7/site-packages/IPython/core/ultratb.py\", line 233, in wrapped\n",
      "    return f(*args, **kwargs)\n",
      "  File \"/Users/rankine/anaconda/lib/python2.7/site-packages/IPython/core/ultratb.py\", line 267, in _fixed_getinnerframes\n",
      "    records = fix_frame_records_filenames(inspect.getinnerframes(etb, context))\n",
      "  File \"/Users/rankine/anaconda/lib/python2.7/inspect.py\", line 1049, in getinnerframes\n",
      "    framelist.append((tb.tb_frame,) + getframeinfo(tb, context))\n",
      "  File \"/Users/rankine/anaconda/lib/python2.7/inspect.py\", line 1009, in getframeinfo\n",
      "    filename = getsourcefile(frame) or getfile(frame)\n",
      "  File \"/Users/rankine/anaconda/lib/python2.7/inspect.py\", line 454, in getsourcefile\n",
      "    if hasattr(getmodule(object, filename), '__loader__'):\n",
      "  File \"/Users/rankine/anaconda/lib/python2.7/inspect.py\", line 483, in getmodule\n",
      "    file = getabsfile(object, _filename)\n",
      "  File \"/Users/rankine/anaconda/lib/python2.7/inspect.py\", line 467, in getabsfile\n",
      "    return os.path.normcase(os.path.abspath(_filename))\n",
      "  File \"/Users/rankine/anaconda/lib/python2.7/posixpath.py\", line 364, in abspath\n",
      "    cwd = os.getcwd()\n",
      "OSError: [Errno 2] No such file or directory\n"
     ]
    },
    {
     "name": "stderr",
     "output_type": "stream",
     "text": [
      "ERROR: Internal Python error in the inspect module.\n",
      "Below is the traceback from this internal error.\n",
      "\n",
      "\n",
      "Unfortunately, your original traceback can not be constructed.\n",
      "\n"
     ]
    },
    {
     "ename": "TypeError",
     "evalue": "'NoneType' object is not iterable",
     "output_type": "error",
     "traceback": [
      "\u001b[0;31m---------------------------------------------------------------------------\u001b[0m",
      "\u001b[0;31mTypeError\u001b[0m                                 Traceback (most recent call last)",
      "\u001b[0;32m/Users/rankine/anaconda/lib/python2.7/site-packages/IPython/core/interactiveshell.pyc\u001b[0m in \u001b[0;36mrun_code\u001b[0;34m(self, code_obj, result)\u001b[0m\n\u001b[1;32m   3081\u001b[0m             \u001b[0;32mif\u001b[0m \u001b[0mresult\u001b[0m \u001b[0;32mis\u001b[0m \u001b[0;32mnot\u001b[0m \u001b[0mNone\u001b[0m\u001b[0;34m:\u001b[0m\u001b[0;34m\u001b[0m\u001b[0m\n\u001b[1;32m   3082\u001b[0m                 \u001b[0mresult\u001b[0m\u001b[0;34m.\u001b[0m\u001b[0merror_in_exec\u001b[0m \u001b[0;34m=\u001b[0m \u001b[0msys\u001b[0m\u001b[0;34m.\u001b[0m\u001b[0mexc_info\u001b[0m\u001b[0;34m(\u001b[0m\u001b[0;34m)\u001b[0m\u001b[0;34m[\u001b[0m\u001b[0;36m1\u001b[0m\u001b[0;34m]\u001b[0m\u001b[0;34m\u001b[0m\u001b[0m\n\u001b[0;32m-> 3083\u001b[0;31m             \u001b[0mself\u001b[0m\u001b[0;34m.\u001b[0m\u001b[0mshowtraceback\u001b[0m\u001b[0;34m(\u001b[0m\u001b[0;34m)\u001b[0m\u001b[0;34m\u001b[0m\u001b[0m\n\u001b[0m\u001b[1;32m   3084\u001b[0m         \u001b[0;32melse\u001b[0m\u001b[0;34m:\u001b[0m\u001b[0;34m\u001b[0m\u001b[0m\n\u001b[1;32m   3085\u001b[0m             \u001b[0moutflag\u001b[0m \u001b[0;34m=\u001b[0m \u001b[0;36m0\u001b[0m\u001b[0;34m\u001b[0m\u001b[0m\n",
      "\u001b[0;32m/Users/rankine/anaconda/lib/python2.7/site-packages/IPython/core/interactiveshell.pyc\u001b[0m in \u001b[0;36mshowtraceback\u001b[0;34m(self, exc_tuple, filename, tb_offset, exception_only)\u001b[0m\n\u001b[1;32m   1878\u001b[0m                     \u001b[0;32mexcept\u001b[0m \u001b[0mException\u001b[0m\u001b[0;34m:\u001b[0m\u001b[0;34m\u001b[0m\u001b[0m\n\u001b[1;32m   1879\u001b[0m                         stb = self.InteractiveTB.structured_traceback(etype,\n\u001b[0;32m-> 1880\u001b[0;31m                                             value, tb, tb_offset=tb_offset)\n\u001b[0m\u001b[1;32m   1881\u001b[0m \u001b[0;34m\u001b[0m\u001b[0m\n\u001b[1;32m   1882\u001b[0m                     \u001b[0mself\u001b[0m\u001b[0;34m.\u001b[0m\u001b[0m_showtraceback\u001b[0m\u001b[0;34m(\u001b[0m\u001b[0metype\u001b[0m\u001b[0;34m,\u001b[0m \u001b[0mvalue\u001b[0m\u001b[0;34m,\u001b[0m \u001b[0mstb\u001b[0m\u001b[0;34m)\u001b[0m\u001b[0;34m\u001b[0m\u001b[0m\n",
      "\u001b[0;32m/Users/rankine/anaconda/lib/python2.7/site-packages/IPython/core/ultratb.pyc\u001b[0m in \u001b[0;36mstructured_traceback\u001b[0;34m(self, etype, value, tb, tb_offset, number_of_lines_of_context)\u001b[0m\n\u001b[1;32m   1240\u001b[0m         \u001b[0mself\u001b[0m\u001b[0;34m.\u001b[0m\u001b[0mtb\u001b[0m \u001b[0;34m=\u001b[0m \u001b[0mtb\u001b[0m\u001b[0;34m\u001b[0m\u001b[0m\n\u001b[1;32m   1241\u001b[0m         return FormattedTB.structured_traceback(\n\u001b[0;32m-> 1242\u001b[0;31m             self, etype, value, tb, tb_offset, number_of_lines_of_context)\n\u001b[0m\u001b[1;32m   1243\u001b[0m \u001b[0;34m\u001b[0m\u001b[0m\n\u001b[1;32m   1244\u001b[0m \u001b[0;34m\u001b[0m\u001b[0m\n",
      "\u001b[0;32m/Users/rankine/anaconda/lib/python2.7/site-packages/IPython/core/ultratb.pyc\u001b[0m in \u001b[0;36mstructured_traceback\u001b[0;34m(self, etype, value, tb, tb_offset, number_of_lines_of_context)\u001b[0m\n\u001b[1;32m   1148\u001b[0m             \u001b[0;31m# Verbose modes need a full traceback\u001b[0m\u001b[0;34m\u001b[0m\u001b[0;34m\u001b[0m\u001b[0m\n\u001b[1;32m   1149\u001b[0m             return VerboseTB.structured_traceback(\n\u001b[0;32m-> 1150\u001b[0;31m                 \u001b[0mself\u001b[0m\u001b[0;34m,\u001b[0m \u001b[0metype\u001b[0m\u001b[0;34m,\u001b[0m \u001b[0mvalue\u001b[0m\u001b[0;34m,\u001b[0m \u001b[0mtb\u001b[0m\u001b[0;34m,\u001b[0m \u001b[0mtb_offset\u001b[0m\u001b[0;34m,\u001b[0m \u001b[0mnumber_of_lines_of_context\u001b[0m\u001b[0;34m\u001b[0m\u001b[0m\n\u001b[0m\u001b[1;32m   1151\u001b[0m             )\n\u001b[1;32m   1152\u001b[0m         \u001b[0;32melse\u001b[0m\u001b[0;34m:\u001b[0m\u001b[0;34m\u001b[0m\u001b[0m\n",
      "\u001b[0;32m/Users/rankine/anaconda/lib/python2.7/site-packages/IPython/core/ultratb.pyc\u001b[0m in \u001b[0;36mstructured_traceback\u001b[0;34m(self, etype, evalue, etb, tb_offset, number_of_lines_of_context)\u001b[0m\n\u001b[1;32m   1000\u001b[0m \u001b[0;34m\u001b[0m\u001b[0m\n\u001b[1;32m   1001\u001b[0m         formatted_exception = self.format_exception_as_a_whole(etype, evalue, etb, number_of_lines_of_context,\n\u001b[0;32m-> 1002\u001b[0;31m                                                                tb_offset)\n\u001b[0m\u001b[1;32m   1003\u001b[0m \u001b[0;34m\u001b[0m\u001b[0m\n\u001b[1;32m   1004\u001b[0m         \u001b[0mcolors\u001b[0m \u001b[0;34m=\u001b[0m \u001b[0mself\u001b[0m\u001b[0;34m.\u001b[0m\u001b[0mColors\u001b[0m  \u001b[0;31m# just a shorthand + quicker name lookup\u001b[0m\u001b[0;34m\u001b[0m\u001b[0m\n",
      "\u001b[0;32m/Users/rankine/anaconda/lib/python2.7/site-packages/IPython/core/ultratb.pyc\u001b[0m in \u001b[0;36mformat_exception_as_a_whole\u001b[0;34m(self, etype, evalue, etb, number_of_lines_of_context, tb_offset)\u001b[0m\n\u001b[1;32m    949\u001b[0m         \u001b[0mrecords\u001b[0m \u001b[0;34m=\u001b[0m \u001b[0mself\u001b[0m\u001b[0;34m.\u001b[0m\u001b[0mget_records\u001b[0m\u001b[0;34m(\u001b[0m\u001b[0metb\u001b[0m\u001b[0;34m,\u001b[0m \u001b[0mnumber_of_lines_of_context\u001b[0m\u001b[0;34m,\u001b[0m \u001b[0mtb_offset\u001b[0m\u001b[0;34m)\u001b[0m\u001b[0;34m\u001b[0m\u001b[0m\n\u001b[1;32m    950\u001b[0m \u001b[0;34m\u001b[0m\u001b[0m\n\u001b[0;32m--> 951\u001b[0;31m         \u001b[0mframes\u001b[0m \u001b[0;34m=\u001b[0m \u001b[0mself\u001b[0m\u001b[0;34m.\u001b[0m\u001b[0mformat_records\u001b[0m\u001b[0;34m(\u001b[0m\u001b[0mrecords\u001b[0m\u001b[0;34m)\u001b[0m\u001b[0;34m\u001b[0m\u001b[0m\n\u001b[0m\u001b[1;32m    952\u001b[0m         \u001b[0;32mif\u001b[0m \u001b[0mrecords\u001b[0m \u001b[0;32mis\u001b[0m \u001b[0mNone\u001b[0m\u001b[0;34m:\u001b[0m\u001b[0;34m\u001b[0m\u001b[0m\n\u001b[1;32m    953\u001b[0m             \u001b[0;32mreturn\u001b[0m \u001b[0;34m\"\"\u001b[0m\u001b[0;34m\u001b[0m\u001b[0m\n",
      "\u001b[0;32m/Users/rankine/anaconda/lib/python2.7/site-packages/IPython/core/ultratb.pyc\u001b[0m in \u001b[0;36mformat_records\u001b[0;34m(self, records)\u001b[0m\n\u001b[1;32m    722\u001b[0m \u001b[0;34m\u001b[0m\u001b[0m\n\u001b[1;32m    723\u001b[0m         \u001b[0mabspath\u001b[0m \u001b[0;34m=\u001b[0m \u001b[0mos\u001b[0m\u001b[0;34m.\u001b[0m\u001b[0mpath\u001b[0m\u001b[0;34m.\u001b[0m\u001b[0mabspath\u001b[0m\u001b[0;34m\u001b[0m\u001b[0m\n\u001b[0;32m--> 724\u001b[0;31m         \u001b[0;32mfor\u001b[0m \u001b[0mframe\u001b[0m\u001b[0;34m,\u001b[0m \u001b[0mfile\u001b[0m\u001b[0;34m,\u001b[0m \u001b[0mlnum\u001b[0m\u001b[0;34m,\u001b[0m \u001b[0mfunc\u001b[0m\u001b[0;34m,\u001b[0m \u001b[0mlines\u001b[0m\u001b[0;34m,\u001b[0m \u001b[0mindex\u001b[0m \u001b[0;32min\u001b[0m \u001b[0mrecords\u001b[0m\u001b[0;34m:\u001b[0m\u001b[0;34m\u001b[0m\u001b[0m\n\u001b[0m\u001b[1;32m    725\u001b[0m             \u001b[0;31m#print '*** record:',file,lnum,func,lines,index  # dbg\u001b[0m\u001b[0;34m\u001b[0m\u001b[0;34m\u001b[0m\u001b[0m\n\u001b[1;32m    726\u001b[0m             \u001b[0;32mif\u001b[0m \u001b[0;32mnot\u001b[0m \u001b[0mfile\u001b[0m\u001b[0;34m:\u001b[0m\u001b[0;34m\u001b[0m\u001b[0m\n",
      "\u001b[0;31mTypeError\u001b[0m: 'NoneType' object is not iterable"
     ]
    }
   ],
   "source": [
    "import matplotlib.pyplot as plt"
   ]
  },
  {
   "cell_type": "code",
   "execution_count": 14,
   "metadata": {
    "collapsed": false
   },
   "outputs": [],
   "source": [
    "steps = range(len(traces))\n",
    "points = zip(steps, traces)\n",
    "cc0traces = [trace[0] for trace in traces] \n",
    "cc1traces = [trace[1] for trace in traces]\n",
    "cc2traces = [trace[2] for trace in traces]\n",
    "cc3traces = [trace[3] for trace in traces]"
   ]
  },
  {
   "cell_type": "code",
   "execution_count": null,
   "metadata": {
    "collapsed": false
   },
   "outputs": [],
   "source": [
    "#plt.plot(steps, cc0traces, 'r--', steps, cc1traces, 'bs', steps, cc2traces, 'g^', steps, cc3traces, 'b--')\n",
    "fig = plt.figure()\n",
    "ax1 = fig.add_subplot(111)\n",
    "ax1.scatter(steps, cc0traces, c='b', label='0')\n",
    "ax1.scatter(steps, cc1traces, c='r', label='0')\n",
    "ax1.scatter(steps, cc2traces, c='g', label='0')\n",
    "ax1.scatter(steps, cc3traces, c='p', label='0')\n",
    "plt.show()"
   ]
  },
  {
   "cell_type": "code",
   "execution_count": null,
   "metadata": {
    "collapsed": true
   },
   "outputs": [],
   "source": []
  },
  {
   "cell_type": "code",
   "execution_count": null,
   "metadata": {
    "collapsed": true
   },
   "outputs": [],
   "source": []
  }
 ],
 "metadata": {
  "kernelspec": {
   "display_name": "Python 2",
   "language": "python",
   "name": "python2"
  },
  "language_info": {
   "codemirror_mode": {
    "name": "ipython",
    "version": 2
   },
   "file_extension": ".py",
   "mimetype": "text/x-python",
   "name": "python",
   "nbconvert_exporter": "python",
   "pygments_lexer": "ipython2",
   "version": "2.7.11"
  }
 },
 "nbformat": 4,
 "nbformat_minor": 0
}
