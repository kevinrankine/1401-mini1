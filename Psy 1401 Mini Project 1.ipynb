{
 "cells": [
  {
   "cell_type": "code",
   "execution_count": 4,
   "metadata": {
    "collapsed": true
   },
   "outputs": [],
   "source": [
    "from random import random\n",
    "\n",
    "num_complex = 4\n",
    "delta = 0.2\n",
    "alpha = 0.02"
   ]
  },
  {
   "cell_type": "code",
   "execution_count": 43,
   "metadata": {
    "collapsed": false
   },
   "outputs": [],
   "source": [
    "def make_grid(n):\n",
    "    return [[make_simple_unit() for i in range(n)] for j in range(n)]\n",
    "\n",
    "def make_simple_unit():\n",
    "    return {'v': initialize(),'h':initialize(),'da':initialize(),'db':initialize()}\n",
    "\n",
    "#firing is x, one weight for each connection to each complex cell\n",
    "def initialize():\n",
    "    return {'firing':0, 'weights':[random() for i in range(num_complex)]}\n",
    "\n",
    "#firing is y, trace is ybar\n",
    "def make_complex_unit():\n",
    "    return {'firing':0,'trace':0}\n",
    "\n",
    "def make_complex_layer():\n",
    "    return [make_complex_unit for i in range(num_complex)]\n",
    "\n",
    "def find_weight_change(trace,firing,weight):\n",
    "    return alpha*trace*(firing - weight)\n",
    "\n",
    "def find_new_trace(firing, trace):\n",
    "    return (1-delta)*trace + delta*firing    \n",
    "\n",
    "#determines which complex cell should fire\n",
    "def which_firing(grid, complex_layer):\n",
    "    sums = {i:0 for i in range(num_complex)}\n",
    "    for i,row in grid.iteritems():\n",
    "        for j,unit in row.iteritems():\n",
    "            for orientation in unit:\n",
    "                firing = unit[orientation]['firing']\n",
    "                if (firing == 1):\n",
    "                    for complex_cell_num in sums:\n",
    "                        sums[complex_cell_num] += firing * unit[orientation]['weights'][complex_cell_num]\n",
    "                weights = unit[orientation]['weights']\n",
    "                for complex_cell_num, weight in weights.iteritems():\n",
    "                    grid[i][j][orientation]['weights'][complex_cell_num] += find_weight_change(complex_layer[complex_cell_num]['trace'],firing,weight)\n",
    "    inverse = [(value, key) for key, value in sums.iteritems()]\n",
    "    return max(inverse)[1]\n",
    "\n",
    "#find instances of firing feature detectors in a frame (firing feature detectors -> \"ffds\")\n",
    "def read_frame(frame):\n",
    "    ffds = []\n",
    "    for row_num,row in frame.iteritems():\n",
    "        for col_num,pixel in row.iteritems():\n",
    "            for feature_detector,is_firing in pixel.iteritems():\n",
    "                if (is_firing == 1):\n",
    "                    ffds.append((row_num,col_num,feature_detector))\n",
    "    return ones\n",
    "\n",
    "def main():\n",
    "    #frames = import frames from Kevin\n",
    "    grid = make_grid(len(frames[0]))\n",
    "    complex_layer = make_complex_layer()\n",
    "    fd2orient = {0:'v', 1:'h', 2:'da', 3:'db'}\n",
    "    for frame in frames:\n",
    "        ffds = read_frame(frame)\n",
    "        for index in ffds:\n",
    "            row = index[0]\n",
    "            col = index[1]\n",
    "            orientation = fd2orient[index[2]]\n",
    "            grid[row][col][orientation]['firing'] = 1\n",
    "        complex_layer[which_firing(grid, complex_layer)]['firing'] = 1\n",
    "        for complex_unit in complex_layer:\n",
    "            complex_unit['trace'] = find_new_trace(complex_unit['firing'],complex_unit['trace'])    "
   ]
  },
  {
   "cell_type": "code",
   "execution_count": null,
   "metadata": {
    "collapsed": true
   },
   "outputs": [],
   "source": []
  }
 ],
 "metadata": {
  "kernelspec": {
   "display_name": "Python 2",
   "language": "python",
   "name": "python2"
  },
  "language_info": {
   "codemirror_mode": {
    "name": "ipython",
    "version": 2
   },
   "file_extension": ".py",
   "mimetype": "text/x-python",
   "name": "python",
   "nbconvert_exporter": "python",
   "pygments_lexer": "ipython2",
   "version": "2.7.10"
  }
 },
 "nbformat": 4,
 "nbformat_minor": 0
}
