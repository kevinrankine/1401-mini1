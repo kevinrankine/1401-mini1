{
 "cells": [
  {
   "cell_type": "code",
   "execution_count": 5,
   "metadata": {
    "collapsed": true
   },
   "outputs": [],
   "source": [
    "import random\n",
    "import numpy as np\n",
    "\n",
    "num_complex = 4\n",
    "delta = 0.2\n",
    "alpha = 0.02"
   ]
  },
  {
   "cell_type": "code",
   "execution_count": 6,
   "metadata": {
    "collapsed": false
   },
   "outputs": [],
   "source": [
    "from pprint import pprint\n",
    "\n",
    "def main():\n",
    "    N = 8\n",
    "    K = 4\n",
    "    grid = np.array([[[0,0,0,0] for _ in range(N)] for _ in range(N)])\n",
    "\n",
    "    dataset = {}\n",
    "\n",
    "    # horizontal\n",
    "\n",
    "    for i in range(N):\n",
    "        for j in range(N):\n",
    "            grid[i][j] = [0,1,0,0]\n",
    "        if 1 not in dataset:\n",
    "            dataset[1] = [grid]\n",
    "        else:\n",
    "            dataset[1].append(grid)\n",
    "        \n",
    "        grid = np.array([[[0,0,0,0] for _ in range(N)] for _ in range(N)])\n",
    "\n",
    "    # vertical\n",
    "\n",
    "    for i in range(N):\n",
    "        for j in range(N):\n",
    "            grid[j][i] = [1,0,0,0]\n",
    "            if 2 not in dataset:\n",
    "                dataset[2] = [grid]\n",
    "        else:\n",
    "            dataset[2].append(grid)\n",
    "        grid = np.array([[[0,0,0,0] for _ in range(N)] for _ in range(N)])\n",
    "\n",
    "    # ldiagonal - da\n",
    "    \n",
    "    row = 0\n",
    "    col = 0\n",
    "\n",
    "    for i in range(N):\n",
    "        col = i\n",
    "        row = 0\n",
    "\n",
    "        while (col >= 0 and row < N):\n",
    "            grid[row][col] = [0,0,1,0]\n",
    "            row += 1\n",
    "            col -= 1\n",
    "        if 3 not in dataset:\n",
    "            dataset[3] = [grid]\n",
    "        else:\n",
    "            dataset[3].append(grid)\n",
    "        grid = np.array([[[0,0,0,0] for _ in range(N)] for _ in range(N)])\n",
    "\n",
    "    \n",
    "    for i in range(1, N):\n",
    "        row = i\n",
    "        col = N - 1\n",
    "\n",
    "        while (col >= 0 and row < N):\n",
    "            grid[row][col] = [0,0,1,0]\n",
    "            row += 1\n",
    "            col -= 1\n",
    "        if 3 not in dataset:\n",
    "            dataset[3] = [grid]\n",
    "        else:\n",
    "            dataset[3].append(grid)\n",
    "        \n",
    "        grid = np.array([[[0,0,0,0] for _ in range(N)] for _ in range(N)])\n",
    "\n",
    "    # rdiagonal - db\n",
    "\n",
    "    for i in range(N):\n",
    "        col = N - 1 - i\n",
    "        row = 0\n",
    "\n",
    "        while (col < N and row < N):\n",
    "            grid[row][col] = [0,0,0,1]\n",
    "            row += 1\n",
    "            col += 1\n",
    "        if 4 not in dataset:\n",
    "            dataset[4] = [grid]\n",
    "        else:\n",
    "            dataset[4].append(grid)\n",
    "        \n",
    "        grid = np.array([[[0,0,0,0] for _ in range(N)] for _ in range(N)])\n",
    "\n",
    "        \n",
    "\n",
    "    for i in range(1, N):\n",
    "        row = i\n",
    "        col = 0\n",
    "\n",
    "        while (col >= 0 and row < N):\n",
    "            grid[row][col] = [0,0,0,1]\n",
    "            row += 1\n",
    "            col += 1\n",
    "        if 4 not in dataset:\n",
    "            dataset[4] = [grid]\n",
    "        else:\n",
    "            dataset[4].append(grid)\n",
    "        \n",
    "        grid = np.array([[[0,0,0,0] for _ in range(N)] for _ in range(N)])\n",
    "    \n",
    "    return dataset\n",
    "\n",
    "        \n",
    "            \n",
    "if __name__ == '__main__':\n",
    "    main()"
   ]
  },
  {
   "cell_type": "code",
   "execution_count": 7,
   "metadata": {
    "collapsed": false
   },
   "outputs": [],
   "source": [
    "data = main()\n",
    "hframes = data[1]\n",
    "vframes = data[2]\n",
    "daframes = data[3]\n",
    "dbframes = data[4]"
   ]
  },
  {
   "cell_type": "code",
   "execution_count": 31,
   "metadata": {
    "collapsed": false
   },
   "outputs": [],
   "source": [
    "import copy\n",
    "\n",
    "#initialize grid of simple cells\n",
    "def make_grid(n):\n",
    "    return [[make_simple_unit() for i in range(n)] for j in range(n)]\n",
    "\n",
    "#initialize simple unit with four feature detectors\n",
    "def make_simple_unit():\n",
    "    return {'v': initialize(),'h':initialize(),'da':initialize(),'db':initialize()}\n",
    "\n",
    "#initialize feature detector, one weight for each connection to each complex cell\n",
    "def initialize():\n",
    "    return {'firing':0, 'weights':[random.uniform(0,0.1) for i in range(num_complex)]}\n",
    "\n",
    "#initialize complex unit\n",
    "def make_complex_unit():\n",
    "    return {'firing':0,'trace':0}\n",
    "\n",
    "#initialize complex layer\n",
    "def make_complex_layer():\n",
    "    return [make_complex_unit() for i in range(num_complex)]\n",
    "\n",
    "#determine feature detector connection weight change for each time step\n",
    "def find_weight_change(trace,firing,weight):\n",
    "    return alpha*trace*(firing - weight)\n",
    "\n",
    "#determine new complex cell trace for each time step\n",
    "def find_new_trace(firing, trace):\n",
    "    return (1-delta)*trace + delta*firing    \n",
    "\n",
    "#determines which complex cell should fire\n",
    "def which_firing(grid, complex_layer):\n",
    "    sums = {i:0 for i in range(num_complex)}\n",
    "    for i,row in enumerate(grid):\n",
    "        for j,unit in enumerate(row):\n",
    "            for orientation in unit:\n",
    "                firing = unit[orientation]['firing']\n",
    "                if (firing == 1):\n",
    "                    for complex_cell_num in sums:\n",
    "                        sums[complex_cell_num] += firing * unit[orientation]['weights'][complex_cell_num]\n",
    "                weights = unit[orientation]['weights']\n",
    "                for complex_cell_num, weight in enumerate(weights):\n",
    "                    grid[i][j][orientation]['weights'][complex_cell_num] += find_weight_change(complex_layer[complex_cell_num]['trace'],firing,weight)\n",
    "    inverse = [(value, key) for key, value in sums.iteritems()]\n",
    "    return max(inverse)[1]\n",
    "\n",
    "#find instances of firing feature detectors in a frame (firing feature detectors -> \"ffds\")\n",
    "def read_frame(frame):\n",
    "    ffds = []\n",
    "    for (row_num,col_num,feature_detector),is_firing in np.ndenumerate(frame):\n",
    "        if (is_firing == 1):\n",
    "            ffds.append((row_num,col_num,feature_detector))\n",
    "    return ffds\n",
    "\n",
    "def run_model(data):\n",
    "    grid = make_grid(len(data[1][0]))\n",
    "    complex_layer = make_complex_layer()\n",
    "    fd2orient = {0:'v', 1:'h', 2:'da', 3:'db'}\n",
    "    complex_num_firing = 0\n",
    "    grid_record = []\n",
    "    complex_record = []\n",
    "    for k,frames in data.iteritems():\n",
    "        #train frame a given number of times\n",
    "        for i in range(100):\n",
    "            #read through frames\n",
    "            for frame in frames:\n",
    "                \n",
    "                #determine which feature detectors are firing\n",
    "                ffds = read_frame(frame)\n",
    "                for index in ffds:\n",
    "                    row = index[0]\n",
    "                    col = index[1]\n",
    "                    orientation = fd2orient[index[2]]\n",
    "                    grid[row][col][orientation]['firing'] = 1\n",
    "                \n",
    "                #determine which complex cell will fire\n",
    "                complex_num_firing = which_firing(grid, complex_layer)\n",
    "                complex_layer[complex_num_firing]['firing'] = 1\n",
    "                \n",
    "                #determine new trace of each complex unit\n",
    "                for complex_unit in complex_layer:\n",
    "                    complex_unit['trace'] = find_new_trace(complex_unit['firing'],complex_unit['trace'])  \n",
    "                \n",
    "                #reset units\n",
    "                for index in ffds:\n",
    "                    row = index[0]\n",
    "                    col = index[1]\n",
    "                    orientation = fd2orient[index[2]]\n",
    "                    grid[row][col][orientation]['firing'] = 0\n",
    "                complex_layer[complex_num_firing]['firing'] = 0\n",
    "            \n",
    "            complex_record.append(copy.deepcopy(complex_layer))\n",
    "            grid_record.append(copy.deepcopy(grid))\n",
    "            \n",
    "    return complex_record, grid_record\n",
    "                "
   ]
  },
  {
   "cell_type": "code",
   "execution_count": 32,
   "metadata": {
    "collapsed": false,
    "scrolled": true
   },
   "outputs": [],
   "source": [
    "complex_record, grid_record = run_model(data)"
   ]
  },
  {
   "cell_type": "code",
   "execution_count": 49,
   "metadata": {
    "collapsed": false
   },
   "outputs": [],
   "source": [
    "vweights = [[[simple['v']['weights'] for simple in row] for row in grid] for grid in grid_record]\n",
    "hweights = [[[simple['h']['weights'] for simple in row] for row in grid] for grid in grid_record]\n",
    "daweights = [[[simple['da']['weights'] for simple in row] for row in grid] for grid in grid_record]\n",
    "dbweights = [[[simple['db']['weights'] for simple in row] for row in grid] for grid in grid_record]\n",
    "traces = [[entry['trace'] for entry in layer] for layer in complex_record]"
   ]
  },
  {
   "cell_type": "code",
   "execution_count": 59,
   "metadata": {
    "collapsed": false
   },
   "outputs": [],
   "source": [
    "import matplotlib.pyplot as plt"
   ]
  },
  {
   "cell_type": "code",
   "execution_count": 57,
   "metadata": {
    "collapsed": false
   },
   "outputs": [],
   "source": [
    "steps = range(len(traces))\n",
    "points = zip(steps, traces)\n",
    "cc0traces = [trace[0] for trace in traces] \n",
    "cc1traces = [trace[1] for trace in traces]\n",
    "cc2traces = [trace[2] for trace in traces]\n",
    "cc3traces = [trace[3] for trace in traces]"
   ]
  },
  {
   "cell_type": "code",
   "execution_count": 60,
   "metadata": {
    "collapsed": false
   },
   "outputs": [
    {
     "ename": "ValueError",
     "evalue": "to_rgba: Invalid rgba arg \"p\"\nto_rgb: Invalid rgb arg \"p\"\ncould not convert string to float: p",
     "output_type": "error",
     "traceback": [
      "\u001b[0;31m---------------------------------------------------------------------------\u001b[0m",
      "\u001b[0;31mValueError\u001b[0m                                Traceback (most recent call last)",
      "\u001b[0;32m<ipython-input-60-d063144d493d>\u001b[0m in \u001b[0;36m<module>\u001b[0;34m()\u001b[0m\n\u001b[1;32m      5\u001b[0m \u001b[0max1\u001b[0m\u001b[0;34m.\u001b[0m\u001b[0mscatter\u001b[0m\u001b[0;34m(\u001b[0m\u001b[0msteps\u001b[0m\u001b[0;34m,\u001b[0m \u001b[0mcc1traces\u001b[0m\u001b[0;34m,\u001b[0m \u001b[0mc\u001b[0m\u001b[0;34m=\u001b[0m\u001b[0;34m'r'\u001b[0m\u001b[0;34m,\u001b[0m \u001b[0mlabel\u001b[0m\u001b[0;34m=\u001b[0m\u001b[0;34m'0'\u001b[0m\u001b[0;34m)\u001b[0m\u001b[0;34m\u001b[0m\u001b[0m\n\u001b[1;32m      6\u001b[0m \u001b[0max1\u001b[0m\u001b[0;34m.\u001b[0m\u001b[0mscatter\u001b[0m\u001b[0;34m(\u001b[0m\u001b[0msteps\u001b[0m\u001b[0;34m,\u001b[0m \u001b[0mcc2traces\u001b[0m\u001b[0;34m,\u001b[0m \u001b[0mc\u001b[0m\u001b[0;34m=\u001b[0m\u001b[0;34m'g'\u001b[0m\u001b[0;34m,\u001b[0m \u001b[0mlabel\u001b[0m\u001b[0;34m=\u001b[0m\u001b[0;34m'0'\u001b[0m\u001b[0;34m)\u001b[0m\u001b[0;34m\u001b[0m\u001b[0m\n\u001b[0;32m----> 7\u001b[0;31m \u001b[0max1\u001b[0m\u001b[0;34m.\u001b[0m\u001b[0mscatter\u001b[0m\u001b[0;34m(\u001b[0m\u001b[0msteps\u001b[0m\u001b[0;34m,\u001b[0m \u001b[0mcc3traces\u001b[0m\u001b[0;34m,\u001b[0m \u001b[0mc\u001b[0m\u001b[0;34m=\u001b[0m\u001b[0;34m'p'\u001b[0m\u001b[0;34m,\u001b[0m \u001b[0mlabel\u001b[0m\u001b[0;34m=\u001b[0m\u001b[0;34m'0'\u001b[0m\u001b[0;34m)\u001b[0m\u001b[0;34m\u001b[0m\u001b[0m\n\u001b[0m\u001b[1;32m      8\u001b[0m \u001b[0mplt\u001b[0m\u001b[0;34m.\u001b[0m\u001b[0mshow\u001b[0m\u001b[0;34m(\u001b[0m\u001b[0;34m)\u001b[0m\u001b[0;34m\u001b[0m\u001b[0m\n",
      "\u001b[0;32m/Applications/anaconda/lib/python2.7/site-packages/matplotlib/axes/_axes.pyc\u001b[0m in \u001b[0;36mscatter\u001b[0;34m(self, x, y, s, c, marker, cmap, norm, vmin, vmax, alpha, linewidths, verts, **kwargs)\u001b[0m\n\u001b[1;32m   3604\u001b[0m \u001b[0;34m\u001b[0m\u001b[0m\n\u001b[1;32m   3605\u001b[0m         \u001b[0;32mif\u001b[0m \u001b[0mc_is_stringy\u001b[0m\u001b[0;34m:\u001b[0m\u001b[0;34m\u001b[0m\u001b[0m\n\u001b[0;32m-> 3606\u001b[0;31m             \u001b[0mcolors\u001b[0m \u001b[0;34m=\u001b[0m \u001b[0mmcolors\u001b[0m\u001b[0;34m.\u001b[0m\u001b[0mcolorConverter\u001b[0m\u001b[0;34m.\u001b[0m\u001b[0mto_rgba_array\u001b[0m\u001b[0;34m(\u001b[0m\u001b[0mc\u001b[0m\u001b[0;34m,\u001b[0m \u001b[0malpha\u001b[0m\u001b[0;34m)\u001b[0m\u001b[0;34m\u001b[0m\u001b[0m\n\u001b[0m\u001b[1;32m   3607\u001b[0m         \u001b[0;32melse\u001b[0m\u001b[0;34m:\u001b[0m\u001b[0;34m\u001b[0m\u001b[0m\n\u001b[1;32m   3608\u001b[0m             \u001b[0;31m# The inherent ambiguity is resolved in favor of color\u001b[0m\u001b[0;34m\u001b[0m\u001b[0;34m\u001b[0m\u001b[0m\n",
      "\u001b[0;32m/Applications/anaconda/lib/python2.7/site-packages/matplotlib/colors.pyc\u001b[0m in \u001b[0;36mto_rgba_array\u001b[0;34m(self, c, alpha)\u001b[0m\n\u001b[1;32m    420\u001b[0m             \u001b[0mresult\u001b[0m \u001b[0;34m=\u001b[0m \u001b[0mnp\u001b[0m\u001b[0;34m.\u001b[0m\u001b[0mzeros\u001b[0m\u001b[0;34m(\u001b[0m\u001b[0;34m(\u001b[0m\u001b[0mnc\u001b[0m\u001b[0;34m,\u001b[0m \u001b[0;36m4\u001b[0m\u001b[0;34m)\u001b[0m\u001b[0;34m,\u001b[0m \u001b[0mdtype\u001b[0m\u001b[0;34m=\u001b[0m\u001b[0mnp\u001b[0m\u001b[0;34m.\u001b[0m\u001b[0mfloat\u001b[0m\u001b[0;34m)\u001b[0m\u001b[0;34m\u001b[0m\u001b[0m\n\u001b[1;32m    421\u001b[0m             \u001b[0;32mfor\u001b[0m \u001b[0mi\u001b[0m\u001b[0;34m,\u001b[0m \u001b[0mcc\u001b[0m \u001b[0;32min\u001b[0m \u001b[0menumerate\u001b[0m\u001b[0;34m(\u001b[0m\u001b[0mc\u001b[0m\u001b[0;34m)\u001b[0m\u001b[0;34m:\u001b[0m\u001b[0;34m\u001b[0m\u001b[0m\n\u001b[0;32m--> 422\u001b[0;31m                 \u001b[0mresult\u001b[0m\u001b[0;34m[\u001b[0m\u001b[0mi\u001b[0m\u001b[0;34m]\u001b[0m \u001b[0;34m=\u001b[0m \u001b[0mself\u001b[0m\u001b[0;34m.\u001b[0m\u001b[0mto_rgba\u001b[0m\u001b[0;34m(\u001b[0m\u001b[0mcc\u001b[0m\u001b[0;34m,\u001b[0m \u001b[0malpha\u001b[0m\u001b[0;34m)\u001b[0m\u001b[0;34m\u001b[0m\u001b[0m\n\u001b[0m\u001b[1;32m    423\u001b[0m             \u001b[0;32mreturn\u001b[0m \u001b[0mresult\u001b[0m\u001b[0;34m\u001b[0m\u001b[0m\n\u001b[1;32m    424\u001b[0m \u001b[0;34m\u001b[0m\u001b[0m\n",
      "\u001b[0;32m/Applications/anaconda/lib/python2.7/site-packages/matplotlib/colors.pyc\u001b[0m in \u001b[0;36mto_rgba\u001b[0;34m(self, arg, alpha)\u001b[0m\n\u001b[1;32m    374\u001b[0m         \u001b[0;32mexcept\u001b[0m \u001b[0;34m(\u001b[0m\u001b[0mTypeError\u001b[0m\u001b[0;34m,\u001b[0m \u001b[0mValueError\u001b[0m\u001b[0;34m)\u001b[0m \u001b[0;32mas\u001b[0m \u001b[0mexc\u001b[0m\u001b[0;34m:\u001b[0m\u001b[0;34m\u001b[0m\u001b[0m\n\u001b[1;32m    375\u001b[0m             raise ValueError(\n\u001b[0;32m--> 376\u001b[0;31m                 'to_rgba: Invalid rgba arg \"%s\"\\n%s' % (str(arg), exc))\n\u001b[0m\u001b[1;32m    377\u001b[0m \u001b[0;34m\u001b[0m\u001b[0m\n\u001b[1;32m    378\u001b[0m     \u001b[0;32mdef\u001b[0m \u001b[0mto_rgba_array\u001b[0m\u001b[0;34m(\u001b[0m\u001b[0mself\u001b[0m\u001b[0;34m,\u001b[0m \u001b[0mc\u001b[0m\u001b[0;34m,\u001b[0m \u001b[0malpha\u001b[0m\u001b[0;34m=\u001b[0m\u001b[0mNone\u001b[0m\u001b[0;34m)\u001b[0m\u001b[0;34m:\u001b[0m\u001b[0;34m\u001b[0m\u001b[0m\n",
      "\u001b[0;31mValueError\u001b[0m: to_rgba: Invalid rgba arg \"p\"\nto_rgb: Invalid rgb arg \"p\"\ncould not convert string to float: p"
     ]
    }
   ],
   "source": [
    "#plt.plot(steps, cc0traces, 'r--', steps, cc1traces, 'bs', steps, cc2traces, 'g^', steps, cc3traces, 'b--')\n",
    "fig = plt.figure()\n",
    "ax1 = fig.add_subplot(111)\n",
    "ax1.scatter(steps, cc0traces, c='b', label='0')\n",
    "ax1.scatter(steps, cc1traces, c='r', label='0')\n",
    "ax1.scatter(steps, cc2traces, c='g', label='0')\n",
    "ax1.scatter(steps, cc3traces, c='p', label='0')\n",
    "plt.show()"
   ]
  },
  {
   "cell_type": "code",
   "execution_count": null,
   "metadata": {
    "collapsed": true
   },
   "outputs": [],
   "source": []
  }
 ],
 "metadata": {
  "kernelspec": {
   "display_name": "Python 2",
   "language": "python",
   "name": "python2"
  },
  "language_info": {
   "codemirror_mode": {
    "name": "ipython",
    "version": 2
   },
   "file_extension": ".py",
   "mimetype": "text/x-python",
   "name": "python",
   "nbconvert_exporter": "python",
   "pygments_lexer": "ipython2",
   "version": "2.7.10"
  }
 },
 "nbformat": 4,
 "nbformat_minor": 0
}
