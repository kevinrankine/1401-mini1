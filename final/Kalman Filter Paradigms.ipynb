{
 "cells": [
  {
   "cell_type": "markdown",
   "metadata": {},
   "source": [
    "### Kalman Filter Associative Learning Paradigms\n",
    "\n",
    "`KalmanFilter()` object \n",
    "* arguments:\n",
    "\n",
    "    * `d_in` : $x_n \\in R^{d_{in}}$ number of conditioned stimuli\n",
    "    * `var_w` : $\\sigma_w^2$ initial weight variance\n",
    "    * `var_r` : $\\sigma_r^2$ reward variance\n",
    "    * `volatility` : $\\tau^2$ diffusion constant\n",
    "\n",
    "* methods:\n",
    "    * `update(x, reward)` : updates parameters when observation of `x` stimulus vector followed by `reward`\n",
    "    * `zero()` : forget everything it learned\n",
    "    * `train(x, reward, nepochs=10)` : `nepochs` trials of `update(x, reward)`\n",
    "    \n",
    "\n",
    "\n",
    "\n",
    "\n",
    "### Single CS Setup"
   ]
  },
  {
   "cell_type": "code",
   "execution_count": 1,
   "metadata": {
    "collapsed": false
   },
   "outputs": [],
   "source": [
    "from kalman import KalmanFilter\n",
    "import numpy as np\n",
    "\n",
    "KF = KalmanFilter(1, var_w=1, var_r=1, volatility=0.01)\n",
    "A = np.array([1])"
   ]
  },
  {
   "cell_type": "markdown",
   "metadata": {
    "collapsed": false
   },
   "source": [
    "### Basic Association $A \\rightarrow +; A \\rightarrow ?$"
   ]
  },
  {
   "cell_type": "code",
   "execution_count": 2,
   "metadata": {
    "collapsed": false
   },
   "outputs": [
    {
     "name": "stdout",
     "output_type": "stream",
     "text": [
      "Response to A: 0.925\n"
     ]
    }
   ],
   "source": [
    "KF.train(A, 1, nepochs=10)\n",
    "    \n",
    "print \"Response to A: %.3f\" % KF.predict(A)"
   ]
  },
  {
   "cell_type": "markdown",
   "metadata": {
    "collapsed": true
   },
   "source": [
    "### Latent Inhibition $A \\rightarrow - ; A \\rightarrow +; A \\rightarrow ?$"
   ]
  },
  {
   "cell_type": "code",
   "execution_count": 3,
   "metadata": {
    "collapsed": false
   },
   "outputs": [
    {
     "name": "stdout",
     "output_type": "stream",
     "text": [
      "Response to A w/o preconditioning: 0.925\n",
      "Response to A w/ preconditioning: 0.668\n"
     ]
    }
   ],
   "source": [
    "KF.zero()\n",
    "KF.train(A, 1)\n",
    "\n",
    "print (\"Response to A w/o preconditioning: %.3f\" % KF.predict(A))\n",
    "\n",
    "KF.zero()\n",
    "KF.train(A, 0)\n",
    "KF.train(A, 1)\n",
    "\n",
    "print (\"Response to A w/ preconditioning: %.3f\" % KF.predict(A))"
   ]
  },
  {
   "cell_type": "markdown",
   "metadata": {},
   "source": [
    "### Two CS setup"
   ]
  },
  {
   "cell_type": "code",
   "execution_count": 4,
   "metadata": {
    "collapsed": true
   },
   "outputs": [],
   "source": [
    "KF = KalmanFilter(2, var_w=1, var_r=1, volatility=0.01)\n",
    "\n",
    "A = np.array([1, 0])\n",
    "B = np.array([0, 1])\n",
    "AB = np.array([1, 1])"
   ]
  },
  {
   "cell_type": "markdown",
   "metadata": {},
   "source": [
    "### Overshadowing Extinction $AB \\rightarrow +; A \\rightarrow -; A \\rightarrow ?$"
   ]
  },
  {
   "cell_type": "code",
   "execution_count": 5,
   "metadata": {
    "collapsed": false
   },
   "outputs": [
    {
     "name": "stdout",
     "output_type": "stream",
     "text": [
      "Response to B after overshadowing w/o A extinction: 0.483\n",
      "Response to B after overshadowing w/ A extinction: 0.826\n"
     ]
    }
   ],
   "source": [
    "KF.train(AB, 1)\n",
    "\n",
    "print \"Response to B after overshadowing w/o A extinction: %.3f\" % KF.predict(B)\n",
    "\n",
    "KF.zero()\n",
    "\n",
    "KF.train(AB, 1)\n",
    "\n",
    "KF.train(A, 0)\n",
    "    \n",
    "print \"Response to B after overshadowing w/ A extinction: %.3f\" % KF.predict(B)"
   ]
  },
  {
   "cell_type": "markdown",
   "metadata": {},
   "source": [
    "### Forward Blocking Extinction $A \\rightarrow +; AB \\rightarrow +; A \\rightarrow -; B \\rightarrow ?$"
   ]
  },
  {
   "cell_type": "code",
   "execution_count": 6,
   "metadata": {
    "collapsed": false
   },
   "outputs": [
    {
     "name": "stdout",
     "output_type": "stream",
     "text": [
      "Response to B w/o A extinction 0.000\n",
      "Response to B w/ A extinction 0.865\n"
     ]
    }
   ],
   "source": [
    "KF.zero()\n",
    "KF.train(A, 1, nepochs=200)\n",
    "KF.train(AB, 1, nepochs=200)\n",
    "print \"Response to B w/o A extinction %.3f\" % KF.predict(B)\n",
    "\n",
    "KF.zero()\n",
    "KF.train(A, 1, nepochs=200)\n",
    "KF.train(AB, 1, nepochs=200)\n",
    "KF.train(A, 0, nepochs=200)\n",
    "print \"Response to B w/ A extinction %.3f\" % KF.predict(B)"
   ]
  },
  {
   "cell_type": "markdown",
   "metadata": {},
   "source": [
    "### TODO : Add More Basic Paradigms, Create Paradigms KF fails at but KF++ doesn't fail at"
   ]
  },
  {
   "cell_type": "code",
   "execution_count": null,
   "metadata": {
    "collapsed": true
   },
   "outputs": [],
   "source": [
    " "
   ]
  }
 ],
 "metadata": {
  "kernelspec": {
   "display_name": "Python 2",
   "language": "python",
   "name": "python2"
  },
  "language_info": {
   "codemirror_mode": {
    "name": "ipython",
    "version": 2
   },
   "file_extension": ".py",
   "mimetype": "text/x-python",
   "name": "python",
   "nbconvert_exporter": "python",
   "pygments_lexer": "ipython2",
   "version": "2.7.11"
  }
 },
 "nbformat": 4,
 "nbformat_minor": 0
}
